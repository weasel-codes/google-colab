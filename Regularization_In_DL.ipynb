{
  "nbformat": 4,
  "nbformat_minor": 0,
  "metadata": {
    "colab": {
      "name": "Regularization_In_DL.ipynb",
      "provenance": [],
      "authorship_tag": "ABX9TyNDKA6WKem5n/AoKOqmgWgW",
      "include_colab_link": true
    },
    "kernelspec": {
      "name": "python3",
      "display_name": "Python 3"
    }
  },
  "cells": [
    {
      "cell_type": "markdown",
      "metadata": {
        "id": "view-in-github",
        "colab_type": "text"
      },
      "source": [
        "<a href=\"https://colab.research.google.com/github/weasel-codes/google-colab/blob/udemy-dl/Regularization_In_DL.ipynb\" target=\"_parent\"><img src=\"https://colab.research.google.com/assets/colab-badge.svg\" alt=\"Open In Colab\"/></a>"
      ]
    },
    {
      "cell_type": "markdown",
      "metadata": {
        "id": "zt3LofBrp0_e"
      },
      "source": [
        "# Regularization\n",
        "* **Underfit**\n",
        "  * If we built an algo that doesnt fit our training set very well, we end up with under fitting condition.\n",
        "  * Underfitting results in High Variance as model is good at predicting new test data.\n",
        "  * Underfitting result in low bias as our algo doesnt very well fit training set.\n",
        "* **Overfit**\n",
        "  * If our algo tries to satisfy all inputs, we end up with very high degree polynomial algo resulting in Overfitting.\n",
        "  * Overfitting results in High Bias as our model tightly tries to satisfy training data.\n",
        "  * Overfitting results in low variance as our algo is prone to wrong/false prediction in case test data are not of the same type as that of training data.\n",
        "* Through **regularization** we aim at finding the sweet spot btw underfitting and overfitting without loosing any important feature and reducing the test error.\n",
        "\n",
        "A simple neural network with MNIST dataset:"
      ]
    },
    {
      "cell_type": "code",
      "metadata": {
        "id": "tAaXQgVF6vGd"
      },
      "source": [
        "import numpy as np\n",
        "import seaborn as sns\n",
        "\n",
        "from matplotlib import pyplot as plt\n",
        "from sklearn.metrics import confusion_matrix, accuracy_score, classification_report\n",
        "\n",
        "from keras.datasets import mnist\n",
        "from keras.utils import np_utils\n",
        "from keras.models import Sequential\n",
        "from keras.layers import Dense, Flatten, Activation, Dropout\n",
        "from keras.optimizers import SGD"
      ],
      "execution_count": 1,
      "outputs": []
    },
    {
      "cell_type": "code",
      "metadata": {
        "id": "x0XGHsYm7kWj",
        "outputId": "07ff7469-2207-4bee-937d-cdee40f1e499",
        "colab": {
          "base_uri": "https://localhost:8080/"
        }
      },
      "source": [
        "(X_Train,Y_Train),(X_Test,Y_Test)=mnist.load_data()\n",
        "print(\"Train Data : \\t\", X_Train.shape)\n",
        "print(\"Test Data : \\t\", Y_Train.shape)\n",
        "print(\"Train Output : \\t\", X_Test.shape)\n",
        "print(\"Test Output : \\t\", Y_Test.shape)"
      ],
      "execution_count": 2,
      "outputs": [
        {
          "output_type": "stream",
          "text": [
            "Train Data : \t (60000, 28, 28)\n",
            "Test Data : \t (60000,)\n",
            "Train Output : \t (10000, 28, 28)\n",
            "Test Output : \t (10000,)\n"
          ],
          "name": "stdout"
        }
      ]
    },
    {
      "cell_type": "code",
      "metadata": {
        "id": "RaCao1qN7vl2",
        "outputId": "8b1745c2-8d03-45a6-88ce-b810335a6633",
        "colab": {
          "base_uri": "https://localhost:8080/",
          "height": 285
        }
      },
      "source": [
        "print(\"Output Value : \", Y_Train[0])\n",
        "f, axarr = plt.subplots(2,2)\n",
        "axarr[0,0].imshow(X_Train[0],cmap='gray')\n",
        "axarr[0,1].imshow(X_Train[1],cmap='gray')\n",
        "axarr[1,0].imshow(X_Train[2],cmap='gray')\n",
        "axarr[1,1].imshow(X_Train[3],cmap='gray')\n",
        "\n",
        "plt.show()"
      ],
      "execution_count": 3,
      "outputs": [
        {
          "output_type": "stream",
          "text": [
            "Output Value :  5\n"
          ],
          "name": "stdout"
        },
        {
          "output_type": "display_data",
          "data": {
            "image/png": "[encoded data removed]",
            "text/plain": [
              "<Figure size 432x288 with 4 Axes>"
            ]
          },
          "metadata": {
            "tags": [],
            "needs_background": "light"
          }
        }
      ]
    },
    {
      "cell_type": "code",
      "metadata": {
        "id": "eiKmKjbD77Ig",
        "outputId": "5774868d-488b-437a-fcb2-ded222390653",
        "colab": {
          "base_uri": "https://localhost:8080/"
        }
      },
      "source": [
        "# Categorical encoding\n",
        "print(\"Y-Value before categorizing : \", Y_Train[0])\n",
        "Y_Train=np_utils.to_categorical(Y_Train)\n",
        "Y_Test=np_utils.to_categorical(Y_Test)\n",
        "print(\"Y-Value after categorizing : \", Y_Train[0])"
      ],
      "execution_count": 4,
      "outputs": [
        {
          "output_type": "stream",
          "text": [
            "Y-Value before categorizing :  5\n",
            "Y-Value after categorizing :  [0. 0. 0. 0. 0. 1. 0. 0. 0. 0.]\n"
          ],
          "name": "stdout"
        }
      ]
    },
    {
      "cell_type": "code",
      "metadata": {
        "id": "zr9aNqcW8Cb-",
        "outputId": "ce7ccbc4-4c37-42be-9913-8d159fd728d2",
        "colab": {
          "base_uri": "https://localhost:8080/"
        }
      },
      "source": [
        "# Normalizing Grey-scale values \n",
        "X_Train=X_Train/255\n",
        "X_Test=X_Test/255\n",
        "print(X_Train[5,15:20,15:20])\n",
        "print(\"After PreProcessing Train Data : \\t\", X_Train.shape)\n",
        "print(\"After PreProcessing Test Data : \\t\", Y_Train.shape)\n",
        "print(\"After PreProcessing Train Output : \\t\", X_Test.shape)\n",
        "print(\"After PreProcessing Test Output : \\t\", Y_Test.shape)"
      ],
      "execution_count": 5,
      "outputs": [
        {
          "output_type": "stream",
          "text": [
            "[[0.94901961 0.98823529 0.98823529 0.90588235 0.45882353]\n",
            " [0.81568627 0.98823529 0.98823529 0.98823529 0.98823529]\n",
            " [0.99215686 0.96862745 0.50588235 0.67843137 0.98823529]\n",
            " [0.84705882 0.25490196 0.         0.05490196 0.28235294]\n",
            " [0.11372549 0.         0.         0.         0.        ]]\n",
            "After PreProcessing Train Data : \t (60000, 28, 28)\n",
            "After PreProcessing Test Data : \t (60000, 10)\n",
            "After PreProcessing Train Output : \t (10000, 28, 28)\n",
            "After PreProcessing Test Output : \t (10000, 10)\n"
          ],
          "name": "stdout"
        }
      ]
    },
    {
      "cell_type": "code",
      "metadata": {
        "id": "MeVQlngY8QeE",
        "outputId": "a69bcf87-f3ad-4cff-8148-b1afac27459e",
        "colab": {
          "base_uri": "https://localhost:8080/"
        }
      },
      "source": [
        "# Basic Neural Network\n",
        "# Define model architecture\n",
        "model = Sequential()\n",
        "model.add(Flatten(input_shape=(28,28)))\n",
        "model.add(Dense(500,activation='relu'))\n",
        "model.add(Dense(500,activation='relu'))\n",
        "model.add(Dense(500,activation='relu'))\n",
        "model.add(Dense(500,activation='relu'))\n",
        "model.add(Dense(500,activation='relu'))\n",
        "model.add(Dense(10,activation='softmax'))\n",
        "\n",
        "# Compile model\n",
        "sgd1 = SGD(lr=0.1) # Sets learning rate. \n",
        "model.compile(loss='categorical_crossentropy',\n",
        "              optimizer=sgd1,\n",
        "              metrics=['accuracy'])\n",
        " \n",
        "# Fit model on training data\n",
        "h1=model.fit(X_Train, Y_Train, batch_size=32, epochs=10, verbose=1, validation_split=.1)\n",
        " \n",
        "# Evaluate model on test data.\n",
        "score_neural = model.evaluate(X_Test, Y_Test, verbose=0)\n",
        "# This returns only a score, so you will need to use another function for \n",
        "# extracting predicted labels for your confusion matrix. Use this line for that:\n",
        "#classes = model.predict_classes(X_test, batch_size=32)\n",
        "print(h1.history['accuracy'])\n",
        "print(h1.history.keys())\n",
        "print(h1.history['val_accuracy'])\n",
        "print('Validation score:', score_neural[0])\n",
        "print('Validation accuracy:', score_neural[1])"
      ],
      "execution_count": 6,
      "outputs": [
        {
          "output_type": "stream",
          "text": [
            "Epoch 1/10\n",
            "1688/1688 [==============================] - 21s 12ms/step - loss: 0.2903 - accuracy: 0.9101 - val_loss: 0.1702 - val_accuracy: 0.9423\n",
            "Epoch 2/10\n",
            "1688/1688 [==============================] - 21s 12ms/step - loss: 0.1027 - accuracy: 0.9685 - val_loss: 0.0883 - val_accuracy: 0.9737\n",
            "Epoch 3/10\n",
            "1688/1688 [==============================] - 21s 12ms/step - loss: 0.0687 - accuracy: 0.9789 - val_loss: 0.0723 - val_accuracy: 0.9778\n",
            "Epoch 4/10\n",
            "1688/1688 [==============================] - 21s 13ms/step - loss: 0.0494 - accuracy: 0.9843 - val_loss: 0.1040 - val_accuracy: 0.9690\n",
            "Epoch 5/10\n",
            "1688/1688 [==============================] - 21s 12ms/step - loss: 0.0360 - accuracy: 0.9888 - val_loss: 0.0901 - val_accuracy: 0.9738\n",
            "Epoch 6/10\n",
            "1688/1688 [==============================] - 21s 13ms/step - loss: 0.0302 - accuracy: 0.9901 - val_loss: 0.0823 - val_accuracy: 0.9770\n",
            "Epoch 7/10\n",
            "1688/1688 [==============================] - 21s 13ms/step - loss: 0.0206 - accuracy: 0.9932 - val_loss: 0.0778 - val_accuracy: 0.9803\n",
            "Epoch 8/10\n",
            "1688/1688 [==============================] - 21s 12ms/step - loss: 0.0191 - accuracy: 0.9938 - val_loss: 0.0706 - val_accuracy: 0.9838\n",
            "Epoch 9/10\n",
            "1688/1688 [==============================] - 22s 13ms/step - loss: 0.0151 - accuracy: 0.9947 - val_loss: 0.0751 - val_accuracy: 0.9815\n",
            "Epoch 10/10\n",
            "1688/1688 [==============================] - 21s 13ms/step - loss: 0.0133 - accuracy: 0.9957 - val_loss: 0.0837 - val_accuracy: 0.9812\n",
            "[0.9100740551948547, 0.9684629440307617, 0.978851854801178, 0.9842777848243713, 0.9887962937355042, 0.9901296496391296, 0.9932407140731812, 0.9937962889671326, 0.9947407245635986, 0.9957407116889954]\n",
            "dict_keys(['loss', 'accuracy', 'val_loss', 'val_accuracy'])\n",
            "[0.9423333406448364, 0.9736666679382324, 0.9778333306312561, 0.968999981880188, 0.9738333225250244, 0.9769999980926514, 0.9803333282470703, 0.9838333129882812, 0.9815000295639038, 0.981166660785675]\n",
            "Validation score: 0.08133426308631897\n",
            "Validation accuracy: 0.9800000190734863\n"
          ],
          "name": "stdout"
        }
      ]
    },
    {
      "cell_type": "markdown",
      "metadata": {
        "id": "1uHmpvvyuACf"
      },
      "source": [
        "## Types of Regularization"
      ]
    },
    {
      "cell_type": "markdown",
      "metadata": {
        "id": "w67SEyz8v-Ts"
      },
      "source": [
        "### Early Stopping\n",
        "* Early stopping is a kind of cross-validation strategy where we keep one part of the training set as the validation set. \n",
        "* When we see that the performance on the validation set is getting worse, we immediately stop the training on the model. This is known as **Early stopping**.\n",
        "\n",
        "![image.png](data:image/png;base64,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)\n",
        "\n",
        "* In the above image, we will stop training at the dotted line since after that our model will start overfitting on the training data."
      ]
    },
    {
      "cell_type": "markdown",
      "metadata": {
        "id": "dbBZ7ZB5xMh2"
      },
      "source": [
        "### Dropout Regularization\n",
        "* To reduce overfitting, we can randomly drop some neurons randomly.\n",
        "* At every iteration, DPR randomly selects some nodes and removes them along with all of their incoming and outgoing connections\n",
        "* A factor specifies this rate of dropout in each layer specifying no. of neurons to drop out of all.\n",
        "* When we drop neurons, our neuron cannot comletely rely on one input as we dropped at random.\n",
        "* In this case we reduce chances of overfitting as there is no Bias and as a result of it no feature comes out as prominent among all.\n",
        "* **Due to these reasons, dropout is usually preferred when we have a large neural network structure in order to introduce more randomness.**\n"
      ]
    },
    {
      "cell_type": "code",
      "metadata": {
        "id": "lDanNWhh9Brf"
      },
      "source": [
        "# Dropout Neural Network\n",
        "model_dropout = Sequential()\n",
        "model_dropout.add(Flatten(input_shape=(28,28)))\n",
        "model_dropout.add(Dense(500,activation='relu'))\n",
        "model_dropout.add(Dropout(0.5))\n",
        "model_dropout.add(Dense(500,activation='relu'))\n",
        "model_dropout.add(Dropout(0.5))\n",
        "model_dropout.add(Dense(500,activation='relu'))\n",
        "model_dropout.add(Dropout(0.5))\n",
        "model_dropout.add(Dense(500,activation='relu'))\n",
        "model_dropout.add(Dropout(0.5))\n",
        "model_dropout.add(Dense(500,activation='relu'))\n",
        "model_dropout.add(Dropout(0.5))\n",
        "model_dropout.add(Dense(10,activation='softmax'))"
      ],
      "execution_count": 10,
      "outputs": []
    },
    {
      "cell_type": "code",
      "metadata": {
        "id": "ZGks4uTUCbDP",
        "outputId": "89af9fca-913c-4e83-b085-f43999d896d3",
        "colab": {
          "base_uri": "https://localhost:8080/"
        }
      },
      "source": [
        "# Compile model\n",
        "sgd1 = SGD(lr=0.1) # Sets learning rate. \n",
        "model_dropout.compile(loss='categorical_crossentropy',\n",
        "              optimizer=sgd1,\n",
        "              metrics=['accuracy'])\n",
        " \n",
        "# Fit model on training data\n",
        "h1_dropout=model_dropout.fit(X_Train, Y_Train, batch_size=32, epochs=10, verbose=1, validation_split=.1)\n",
        " \n",
        "# Evaluate model on test data.\n",
        "score_dropout = model_dropout.evaluate(X_Test, Y_Test, verbose=0)\n",
        "# This returns only a score, so you will need to use another function for \n",
        "# extracting predicted labels for your confusion matrix. Use this line for that:\n",
        "#classes = model.predict_classes(X_test, batch_size=32)\n",
        "print(h1_dropout.history['accuracy'])\n",
        "print(h1_dropout.history.keys())\n",
        "print(h1_dropout.history['val_accuracy'])\n",
        "print('Validation score:', score_dropout[0])\n",
        "print('Validation accuracy:', score_dropout[1])"
      ],
      "execution_count": 11,
      "outputs": [
        {
          "output_type": "stream",
          "text": [
            "Epoch 1/10\n",
            "1688/1688 [==============================] - 24s 14ms/step - loss: 0.7150 - accuracy: 0.7654 - val_loss: 0.1596 - val_accuracy: 0.9540\n",
            "Epoch 2/10\n",
            "1688/1688 [==============================] - 24s 14ms/step - loss: 0.3069 - accuracy: 0.9161 - val_loss: 0.1154 - val_accuracy: 0.9650\n",
            "Epoch 3/10\n",
            "1688/1688 [==============================] - 24s 14ms/step - loss: 0.2482 - accuracy: 0.9335 - val_loss: 0.1033 - val_accuracy: 0.9713\n",
            "Epoch 4/10\n",
            "1688/1688 [==============================] - 24s 14ms/step - loss: 0.2138 - accuracy: 0.9431 - val_loss: 0.0873 - val_accuracy: 0.9747\n",
            "Epoch 5/10\n",
            "1688/1688 [==============================] - 24s 14ms/step - loss: 0.1888 - accuracy: 0.9493 - val_loss: 0.0887 - val_accuracy: 0.9743\n",
            "Epoch 6/10\n",
            "1688/1688 [==============================] - 24s 14ms/step - loss: 0.1736 - accuracy: 0.9532 - val_loss: 0.0919 - val_accuracy: 0.9737\n",
            "Epoch 7/10\n",
            "1688/1688 [==============================] - 24s 14ms/step - loss: 0.1571 - accuracy: 0.9576 - val_loss: 0.0818 - val_accuracy: 0.9770\n",
            "Epoch 8/10\n",
            "1688/1688 [==============================] - 24s 14ms/step - loss: 0.1481 - accuracy: 0.9599 - val_loss: 0.0722 - val_accuracy: 0.9793\n",
            "Epoch 9/10\n",
            "1688/1688 [==============================] - 24s 14ms/step - loss: 0.1381 - accuracy: 0.9628 - val_loss: 0.0678 - val_accuracy: 0.9817\n",
            "Epoch 10/10\n",
            "1688/1688 [==============================] - 24s 14ms/step - loss: 0.1329 - accuracy: 0.9641 - val_loss: 0.0691 - val_accuracy: 0.9798\n",
            "[0.7653703689575195, 0.9161481261253357, 0.9334629774093628, 0.9430740475654602, 0.9492592811584473, 0.953166663646698, 0.9575740694999695, 0.9598888754844666, 0.9628148078918457, 0.964129626750946]\n",
            "dict_keys(['loss', 'accuracy', 'val_loss', 'val_accuracy'])\n",
            "[0.9539999961853027, 0.9649999737739563, 0.9713333249092102, 0.9746666550636292, 0.9743333458900452, 0.9736666679382324, 0.9769999980926514, 0.9793333411216736, 0.9816666841506958, 0.9798333048820496]\n",
            "Validation score: 0.08896809816360474\n",
            "Validation accuracy: 0.9751999974250793\n"
          ],
          "name": "stdout"
        }
      ]
    },
    {
      "cell_type": "markdown",
      "metadata": {
        "id": "-Rqb9uK9FELn"
      },
      "source": [
        "### L2"
      ]
    },
    {
      "cell_type": "code",
      "metadata": {
        "id": "Wkm0mSVMFZAM"
      },
      "source": [
        "from keras import regularizers"
      ],
      "execution_count": 6,
      "outputs": []
    },
    {
      "cell_type": "code",
      "metadata": {
        "id": "XuYsJ2bLFFlN"
      },
      "source": [
        "# Dropout Neural Network\n",
        "model_l2 = Sequential()\n",
        "model_l2.add(Flatten(input_shape=(28,28)))\n",
        "model_l2.add(Dense(500,activation='relu', kernel_regularizer=regularizers.l2(0.0001)))\n",
        "model_l2.add(Dense(500,activation='relu', kernel_regularizer=regularizers.l2(0.0001)))\n",
        "model_l2.add(Dense(500,activation='relu', kernel_regularizer=regularizers.l2(0.0001)))\n",
        "model_l2.add(Dense(500,activation='relu', kernel_regularizer=regularizers.l2(0.0001)))\n",
        "model_l2.add(Dense(500,activation='relu', kernel_regularizer=regularizers.l2(0.0001)))\n",
        "model_l2.add(Dense(10,activation='softmax'))"
      ],
      "execution_count": 7,
      "outputs": []
    },
    {
      "cell_type": "code",
      "metadata": {
        "id": "ZeezCoCjF_y4",
        "outputId": "736f75ec-4b23-4f84-cd91-d9c27ef489f1",
        "colab": {
          "base_uri": "https://localhost:8080/"
        }
      },
      "source": [
        "# Compile model\n",
        "sgd1 = SGD(lr=0.1) # Sets learning rate. \n",
        "model_l2.compile(loss='categorical_crossentropy',\n",
        "              optimizer=sgd1,\n",
        "              metrics=['accuracy'])\n",
        "\n",
        "# Fit model on training data\n",
        "h1_l2=model_l2.fit(X_Train, Y_Train, batch_size=32, epochs=10, verbose=1, validation_split=.1)\n",
        "# Evaluate model on test data.\n",
        "score_l2 = model_l2.evaluate(X_Test, Y_Test, verbose=0)\n",
        "# This returns only a score, so you will need to use another function for \n",
        "# extracting predicted labels for your confusion matrix. Use this line for that:\n",
        "#classes = model.predict_classes(X_test, batch_size=32)\n",
        "print(h1_l2.history['accuracy'])\n",
        "print(h1_l2.history.keys())\n",
        "print(h1_l2.history['val_accuracy'])\n",
        "print('Validation score:', score_l2[0])\n",
        "print('Validation accuracy:', score_l2[1])"
      ],
      "execution_count": 8,
      "outputs": [
        {
          "output_type": "stream",
          "text": [
            "Epoch 1/10\n",
            "1688/1688 [==============================] - 26s 15ms/step - loss: 0.5526 - accuracy: 0.9091 - val_loss: 0.3537 - val_accuracy: 0.9715\n",
            "Epoch 2/10\n",
            "1688/1688 [==============================] - 25s 15ms/step - loss: 0.3513 - accuracy: 0.9692 - val_loss: 0.3670 - val_accuracy: 0.9627\n",
            "Epoch 3/10\n",
            "1688/1688 [==============================] - 25s 15ms/step - loss: 0.3106 - accuracy: 0.9773 - val_loss: 0.3201 - val_accuracy: 0.9747\n",
            "Epoch 4/10\n",
            "1688/1688 [==============================] - 25s 15ms/step - loss: 0.2801 - accuracy: 0.9833 - val_loss: 0.2996 - val_accuracy: 0.9763\n",
            "Epoch 5/10\n",
            "1688/1688 [==============================] - 25s 15ms/step - loss: 0.2586 - accuracy: 0.9867 - val_loss: 0.2902 - val_accuracy: 0.9770\n",
            "Epoch 6/10\n",
            "1688/1688 [==============================] - 26s 15ms/step - loss: 0.2387 - accuracy: 0.9894 - val_loss: 0.2693 - val_accuracy: 0.9813\n",
            "Epoch 7/10\n",
            "1688/1688 [==============================] - 25s 15ms/step - loss: 0.2239 - accuracy: 0.9909 - val_loss: 0.2626 - val_accuracy: 0.9812\n",
            "Epoch 8/10\n",
            "1688/1688 [==============================] - 25s 15ms/step - loss: 0.2091 - accuracy: 0.9931 - val_loss: 0.3273 - val_accuracy: 0.9602\n",
            "Epoch 9/10\n",
            "1688/1688 [==============================] - 25s 15ms/step - loss: 0.1973 - accuracy: 0.9938 - val_loss: 0.2372 - val_accuracy: 0.9832\n",
            "Epoch 10/10\n",
            "1688/1688 [==============================] - 25s 15ms/step - loss: 0.1849 - accuracy: 0.9949 - val_loss: 0.2501 - val_accuracy: 0.9782\n",
            "[0.9091110825538635, 0.9692407250404358, 0.9772777557373047, 0.9833333492279053, 0.9867036938667297, 0.9893888831138611, 0.990851879119873, 0.9931111335754395, 0.9938333630561829, 0.99485182762146]\n",
            "dict_keys(['loss', 'accuracy', 'val_loss', 'val_accuracy'])\n",
            "[0.9714999794960022, 0.9626666903495789, 0.9746666550636292, 0.9763333201408386, 0.9769999980926514, 0.981333315372467, 0.981166660785675, 0.9601666927337646, 0.9831666946411133, 0.9781666398048401]\n",
            "Validation score: 0.2476327121257782\n",
            "Validation accuracy: 0.977400004863739\n"
          ],
          "name": "stdout"
        }
      ]
    }
  ]
}