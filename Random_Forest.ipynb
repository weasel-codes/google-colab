{
  "nbformat": 4,
  "nbformat_minor": 0,
  "metadata": {
    "colab": {
      "name": "Random Forest.ipynb",
      "provenance": [],
      "collapsed_sections": [],
      "authorship_tag": "ABX9TyNMJksHfJ2k3CQBZGbjkdDm",
      "include_colab_link": true
    },
    "kernelspec": {
      "name": "python3",
      "display_name": "Python 3"
    }
  },
  "cells": [
    {
      "cell_type": "markdown",
      "metadata": {
        "id": "view-in-github",
        "colab_type": "text"
      },
      "source": [
        "<a href=\"https://colab.research.google.com/github/weasel-codes/google-colab/blob/udemy-dl/Random_Forest.ipynb\" target=\"_parent\"><img src=\"https://colab.research.google.com/assets/colab-badge.svg\" alt=\"Open In Colab\"/></a>"
      ]
    },
    {
      "cell_type": "markdown",
      "metadata": {
        "id": "BMy44yGFaioN"
      },
      "source": [
        "# Support Vector Machine To Predict : Whether customer will buy an SUV or not\n",
        "---"
      ]
    },
    {
      "cell_type": "markdown",
      "metadata": {
        "id": "Q0SdPIFnb-SE"
      },
      "source": [
        "## Libraries Import"
      ]
    },
    {
      "cell_type": "code",
      "metadata": {
        "id": "WtI2H1UCVFHl"
      },
      "source": [
        "import numpy as np\n",
        "import matplotlib.pyplot as plot\n",
        "import pandas as pd"
      ],
      "execution_count": 3,
      "outputs": []
    },
    {
      "cell_type": "markdown",
      "metadata": {
        "id": "mMSIjWn5cTbd"
      },
      "source": [
        "## Dataset Import"
      ]
    },
    {
      "cell_type": "code",
      "metadata": {
        "id": "xCPLAaKYcWLS",
        "outputId": "28a2ff7e-6154-4be5-fe86-694faf14e5e2",
        "colab": {
          "base_uri": "https://localhost:8080/"
        }
      },
      "source": [
        "dataset = pd.read_csv('Social_Network_Ads.csv')\n",
        "X = dataset.iloc[:, :-1].values\n",
        "Y = dataset.iloc[:,-1].values\n",
        "print(dataset)"
      ],
      "execution_count": 4,
      "outputs": [
        {
          "output_type": "stream",
          "text": [
            "     Age  EstimatedSalary  Purchased\n",
            "0     19            19000          0\n",
            "1     35            20000          0\n",
            "2     26            43000          0\n",
            "3     27            57000          0\n",
            "4     19            76000          0\n",
            "..   ...              ...        ...\n",
            "395   46            41000          1\n",
            "396   51            23000          1\n",
            "397   50            20000          1\n",
            "398   36            33000          0\n",
            "399   49            36000          1\n",
            "\n",
            "[400 rows x 3 columns]\n"
          ],
          "name": "stdout"
        }
      ]
    },
    {
      "cell_type": "code",
      "metadata": {
        "id": "PyWc2vnbjdr8",
        "outputId": "c1b6bc30-d226-46af-f943-44b756966eb1",
        "colab": {
          "base_uri": "https://localhost:8080/",
          "height": 334
        }
      },
      "source": [
        "# Plotting dependent vs independent variable\n",
        "plot.figure(figsize=(20,5))\n",
        "plot.subplot(121)\n",
        "plot.scatter(X[:,0], Y)\n",
        "plot.xlabel(\"Age\")\n",
        "plot.ylabel(\"Purchased (Yes/No)\")\n",
        "\n",
        "plot.subplot(122)\n",
        "plot.scatter(X[:,1], Y)\n",
        "plot.xlabel(\"Expected Salary\")\n",
        "plot.ylabel(\"Purchased (Yes/No)\")\n",
        "\n",
        "plot.show()\n"
      ],
      "execution_count": 5,
      "outputs": [
        {
          "output_type": "display_data",
          "data": {
            "image/png": "[encoded data removed]",
            "text/plain": [
              "<Figure size 1440x360 with 2 Axes>"
            ]
          },
          "metadata": {
            "tags": [],
            "needs_background": "light"
          }
        }
      ]
    },
    {
      "cell_type": "markdown",
      "metadata": {
        "id": "3DMyrgM9d306"
      },
      "source": [
        "## Split into Training and Testing set"
      ]
    },
    {
      "cell_type": "code",
      "metadata": {
        "id": "6e-LkOSFd817",
        "outputId": "76938a0f-887f-4850-fc59-e0c2646f53c6",
        "colab": {
          "base_uri": "https://localhost:8080/"
        }
      },
      "source": [
        "from sklearn.model_selection import train_test_split as split\n",
        "X_train, X_test, Y_train, Y_test = split(X, Y, test_size=0.2, random_state=1) #80:20 :: Train:Test\n",
        "\n",
        "print(\"Train set for X : \", X_train.shape ,\", Sample Data : \\n\",X_train[:10,:])\n",
        "print(\"\\n\\nTrain set for Y : \", Y_train.shape ,\", Sample Data : \\n\", Y_train[:10])\n",
        "print(\"\\n\\nTest set for X : \", X_test.shape ,\", Sample Data : \\n\", X_test[:10,:])\n",
        "print(\"\\n\\nTest set for Y : \", Y_test.shape ,\", Sample Data : \\n\", Y_test[:10])"
      ],
      "execution_count": 6,
      "outputs": [
        {
          "output_type": "stream",
          "text": [
            "Train set for X :  (320, 2) , Sample Data : \n",
            " [[    29  28000]\n",
            " [    45  22000]\n",
            " [    46 117000]\n",
            " [    32  18000]\n",
            " [    22  81000]\n",
            " [    25  87000]\n",
            " [    48  33000]\n",
            " [    35  58000]\n",
            " [    47  23000]\n",
            " [    26  32000]]\n",
            "\n",
            "\n",
            "Train set for Y :  (320,) , Sample Data : \n",
            " [0 1 1 0 0 0 1 0 1 0]\n",
            "\n",
            "\n",
            "Test set for X :  (80, 2) , Sample Data : \n",
            " [[    36  33000]\n",
            " [    39  61000]\n",
            " [    36 118000]\n",
            " [    39 122000]\n",
            " [    26 118000]\n",
            " [    38  65000]\n",
            " [    20  36000]\n",
            " [    49  89000]\n",
            " [    31  18000]\n",
            " [    48 141000]]\n",
            "\n",
            "\n",
            "Test set for Y :  (80,) , Sample Data : \n",
            " [0 0 1 1 0 0 0 1 0 0]\n"
          ],
          "name": "stdout"
        }
      ]
    },
    {
      "cell_type": "markdown",
      "metadata": {
        "id": "UHpvv2LBgn9f"
      },
      "source": [
        "## Feature Scaling"
      ]
    },
    {
      "cell_type": "code",
      "metadata": {
        "id": "g7qRCQdugxxT",
        "outputId": "5545847a-83b9-4ffa-a10a-549561d89fd3",
        "colab": {
          "base_uri": "https://localhost:8080/"
        }
      },
      "source": [
        "from sklearn.preprocessing import StandardScaler\n",
        "sc = StandardScaler()\n",
        "X_train = sc.fit_transform(X_train)\n",
        "X_test = sc.transform(X_test)\n",
        "\n",
        "print(\"Train set for X : \", X_train.shape ,\", Sample Data : \\n\",X_train[:10,:])\n",
        "print(\"\\n\\nTest set for X : \", X_test.shape ,\", Sample Data : \\n \", X_test[:10,:])"
      ],
      "execution_count": 7,
      "outputs": [
        {
          "output_type": "stream",
          "text": [
            "Train set for X :  (320, 2) , Sample Data : \n",
            " [[-0.80330081 -1.19121795]\n",
            " [ 0.75697997 -1.36859801]\n",
            " [ 0.85449752  1.43991958]\n",
            " [-0.51074816 -1.48685138]\n",
            " [-1.48592365  0.37563923]\n",
            " [-1.19337101  0.55301929]\n",
            " [ 1.04953262 -1.04340124]\n",
            " [-0.21819552 -0.30431766]\n",
            " [ 0.95201507 -1.33903467]\n",
            " [-1.09585346 -1.07296458]]\n",
            "\n",
            "\n",
            "Test set for X :  (80, 2) , Sample Data : \n",
            "  [[-0.12067797 -1.04340124]\n",
            " [ 0.17187468 -0.21562763]\n",
            " [-0.12067797  1.46948292]\n",
            " [ 0.17187468  1.58773629]\n",
            " [-1.09585346  1.46948292]\n",
            " [ 0.07435713 -0.09737426]\n",
            " [-1.68095875 -0.95471121]\n",
            " [ 1.14705017  0.61214597]\n",
            " [-0.60826571 -1.48685138]\n",
            " [ 1.04953262  2.14943981]]\n"
          ],
          "name": "stdout"
        }
      ]
    },
    {
      "cell_type": "markdown",
      "metadata": {
        "id": "ZuwDN4CA8mCS"
      },
      "source": [
        "## Training Random Forest on Training Set"
      ]
    },
    {
      "cell_type": "code",
      "metadata": {
        "id": "idXOix1Y8r3K",
        "outputId": "ac2c6fc5-d51f-43de-dbdf-fa4dad6be42e",
        "colab": {
          "base_uri": "https://localhost:8080/"
        }
      },
      "source": [
        "from sklearn.ensemble import RandomForestClassifier\n",
        "classifierForrest = RandomForestClassifier(n_estimators = 150, criterion = 'entropy', random_state = 0)\n",
        "classifierForrest.fit(X_train, Y_train)"
      ],
      "execution_count": 8,
      "outputs": [
        {
          "output_type": "execute_result",
          "data": {
            "text/plain": [
              "RandomForestClassifier(bootstrap=True, ccp_alpha=0.0, class_weight=None,\n",
              "                       criterion='entropy', max_depth=None, max_features='auto',\n",
              "                       max_leaf_nodes=None, max_samples=None,\n",
              "                       min_impurity_decrease=0.0, min_impurity_split=None,\n",
              "                       min_samples_leaf=1, min_samples_split=2,\n",
              "                       min_weight_fraction_leaf=0.0, n_estimators=150,\n",
              "                       n_jobs=None, oob_score=False, random_state=0, verbose=0,\n",
              "                       warm_start=False)"
            ]
          },
          "metadata": {
            "tags": []
          },
          "execution_count": 8
        }
      ]
    },
    {
      "cell_type": "markdown",
      "metadata": {
        "id": "gdkmmgbg-ZcL"
      },
      "source": [
        "## Predict on Random Forest"
      ]
    },
    {
      "cell_type": "code",
      "metadata": {
        "id": "_2HUC3AH-cxM"
      },
      "source": [
        "Y_pred = None\n",
        "Y_pred=classifierForrest.predict(X_test)"
      ],
      "execution_count": 9,
      "outputs": []
    },
    {
      "cell_type": "markdown",
      "metadata": {
        "id": "IdPJdlak-4dS"
      },
      "source": [
        "## Generate Confusion Matrix for Random Forest"
      ]
    },
    {
      "cell_type": "code",
      "metadata": {
        "id": "zH-VkwgD-9Sn",
        "outputId": "64994de0-f8bc-404b-9656-cd8db882b34c",
        "colab": {
          "base_uri": "https://localhost:8080/"
        }
      },
      "source": [
        "from sklearn.metrics import confusion_matrix, accuracy_score\n",
        "print(\"Accuracy of model : \", accuracy_score(Y_test, Y_pred)) # Higher than SVM\n",
        "cm = confusion_matrix(Y_test, Y_pred)\n",
        "print(\"Confusion Matrix : \\n\", cm)"
      ],
      "execution_count": 10,
      "outputs": [
        {
          "output_type": "stream",
          "text": [
            "Accuracy of model :  0.875\n",
            "Confusion Matrix : \n",
            " [[41  7]\n",
            " [ 3 29]]\n"
          ],
          "name": "stdout"
        }
      ]
    },
    {
      "cell_type": "markdown",
      "metadata": {
        "id": "a-P49uMiA2JQ"
      },
      "source": [
        "## Visualizing Training Set for Random Forest"
      ]
    },
    {
      "cell_type": "code",
      "metadata": {
        "id": "AT30me-VA5NL",
        "outputId": "106bee2f-336e-4de8-8233-ba8bd88707c6",
        "colab": {
          "base_uri": "https://localhost:8080/",
          "height": 237
        }
      },
      "source": [
        "import matplotlib.pyplot as plt\n",
        "from matplotlib.colors import ListedColormap\n",
        "X_set, Y_set = sc.inverse_transform(X_train), Y_train\n",
        "X1, X2 = np.meshgrid(np.arange(start = X_set[:, 0].min() - 10, stop = X_set[:, 0].max() + 10, step = 0.25),\n",
        "                     np.arange(start = X_set[:, 1].min() - 1000, stop = X_set[:, 1].max() + 1000, step = 0.25))\n",
        "plt.contourf(X1, X2, classifierForrest.predict(sc.transform(np.array([X1.ravel(), X2.ravel()]).T)).reshape(X1.shape),\n",
        "             alpha = 0.75, cmap = ListedColormap(('red', 'green')))\n",
        "plt.xlim(X1.min(), X1.max())\n",
        "plt.ylim(X2.min(), X2.max())\n",
        "for i, j in enumerate(np.unique(Y_set)):\n",
        "    plt.scatter(X_set[Y_set == j, 0], X_set[Y_set == j, 1], c = ListedColormap(('red', 'green'))(i), label = j)\n",
        "plt.title('SVM Training Set')\n",
        "plt.xlabel('Age')\n",
        "plt.ylabel('Estimated Salary')\n",
        "plt.legend()\n",
        "plt.show()"
      ],
      "execution_count": 1,
      "outputs": [
        {
          "output_type": "error",
          "ename": "NameError",
          "evalue": "ignored",
          "traceback": [
            "\u001b[0;31m---------------------------------------------------------------------------\u001b[0m",
            "\u001b[0;31mNameError\u001b[0m                                 Traceback (most recent call last)",
            "\u001b[0;32m<ipython-input-1-80becd40466e>\u001b[0m in \u001b[0;36m<module>\u001b[0;34m()\u001b[0m\n\u001b[1;32m      1\u001b[0m \u001b[0;32mimport\u001b[0m \u001b[0mmatplotlib\u001b[0m\u001b[0;34m.\u001b[0m\u001b[0mpyplot\u001b[0m \u001b[0;32mas\u001b[0m \u001b[0mplt\u001b[0m\u001b[0;34m\u001b[0m\u001b[0;34m\u001b[0m\u001b[0m\n\u001b[1;32m      2\u001b[0m \u001b[0;32mfrom\u001b[0m \u001b[0mmatplotlib\u001b[0m\u001b[0;34m.\u001b[0m\u001b[0mcolors\u001b[0m \u001b[0;32mimport\u001b[0m \u001b[0mListedColormap\u001b[0m\u001b[0;34m\u001b[0m\u001b[0;34m\u001b[0m\u001b[0m\n\u001b[0;32m----> 3\u001b[0;31m \u001b[0mX_set\u001b[0m\u001b[0;34m,\u001b[0m \u001b[0mY_set\u001b[0m \u001b[0;34m=\u001b[0m \u001b[0msc\u001b[0m\u001b[0;34m.\u001b[0m\u001b[0minverse_transform\u001b[0m\u001b[0;34m(\u001b[0m\u001b[0mX_train\u001b[0m\u001b[0;34m)\u001b[0m\u001b[0;34m,\u001b[0m \u001b[0mY_train\u001b[0m\u001b[0;34m\u001b[0m\u001b[0;34m\u001b[0m\u001b[0m\n\u001b[0m\u001b[1;32m      4\u001b[0m X1, X2 = np.meshgrid(np.arange(start = X_set[:, 0].min() - 10, stop = X_set[:, 0].max() + 10, step = 0.25),\n\u001b[1;32m      5\u001b[0m                      np.arange(start = X_set[:, 1].min() - 1000, stop = X_set[:, 1].max() + 1000, step = 0.25))\n",
            "\u001b[0;31mNameError\u001b[0m: name 'sc' is not defined"
          ]
        }
      ]
    },
    {
      "cell_type": "markdown",
      "metadata": {
        "id": "1T9ZaUxJCG_A"
      },
      "source": [
        "## Visualizing Testing Set for Random Forest"
      ]
    },
    {
      "cell_type": "code",
      "metadata": {
        "id": "aWd7TcSyCQ1N"
      },
      "source": [
        "import matplotlib.pyplot as plt\n",
        "from matplotlib.colors import ListedColormap\n",
        "X_set, y_set = sc.inverse_transform(X_test), Y_test\n",
        "X1, X2 = np.meshgrid(np.arange(start = X_set[:, 0].min() - 10, stop = X_set[:, 0].max() + 10, step = 0.25),\n",
        "                     np.arange(start = X_set[:, 1].min() - 1000, stop = X_set[:, 1].max() + 1000, step = 0.25))\n",
        "plt.contourf(X1, X2, classifierForrest.predict(sc.transform(np.array([X1.ravel(), X2.ravel()]).T)).reshape(X1.shape),\n",
        "             alpha = 0.75, cmap = ListedColormap(('red', 'green')))\n",
        "plt.xlim(X1.min(), X1.max())\n",
        "plt.ylim(X2.min(), X2.max())\n",
        "for i, j in enumerate(np.unique(y_set)):\n",
        "    plt.scatter(X_set[y_set == j, 0], X_set[y_set == j, 1], c = ListedColormap(('red', 'green'))(i), label = j)\n",
        "plt.title('SVM Testing Set')\n",
        "plt.xlabel('Age')\n",
        "plt.ylabel('Estimated Salary')\n",
        "plt.legend()\n",
        "plt.show()\n"
      ],
      "execution_count": null,
      "outputs": []
    },
    {
      "cell_type": "markdown",
      "metadata": {
        "id": "MuofUFVviUCL"
      },
      "source": [
        "# K-Fold Cross Validation"
      ]
    },
    {
      "cell_type": "code",
      "metadata": {
        "id": "aejwyTimNoi3",
        "outputId": "9994886c-348e-47a4-ef9a-29623d7fceef",
        "colab": {
          "base_uri": "https://localhost:8080/",
          "height": 435
        }
      },
      "source": [
        "# For Random Forest\n",
        "from sklearn.model_selection import cross_val_score\n",
        "accuracies = cross_val_score(estimator = classifierForrest, X = X_train, y = Y_train, cv = 10)\n",
        "print(\"Distinct accuracies for Random Forest : \", accuracies*100)\n",
        "print(\"Average Accuracy Random Forest : {:.2f} %\".format(accuracies.mean()*100))\n",
        "print(\"Standard Deviation in Random Forest accuracies : {:.2f} %\".format(accuracies.std()*100))\n",
        "\n",
        "fig = plot.figure()\n",
        "ax = fig.add_axes([0,0,1,1])\n",
        "ax.bar(np.arange(1,len(accuracies)+1), accuracies*100)\n",
        "plot.xlabel(\"Fold#\")\n",
        "plot.ylabel(\"Accuracy\")\n",
        "plot.title(\"Accuracy vs folds\")\n",
        "plot.show()"
      ],
      "execution_count": 11,
      "outputs": [
        {
          "output_type": "stream",
          "text": [
            "Distinct accuracies for Random Forest :  [ 81.25   84.375  87.5    93.75   96.875  87.5    90.625 100.     87.5\n",
            "  90.625]\n",
            "Average Accuracy Random Forest : 90.00 %\n",
            "Standard Deviation in Random Forest accuracies : 5.38 %\n"
          ],
          "name": "stdout"
        },
        {
          "output_type": "display_data",
          "data": {
            "image/png": "[encoded data removed]",
            "text/plain": [
              "<Figure size 432x288 with 1 Axes>"
            ]
          },
          "metadata": {
            "tags": [],
            "needs_background": "light"
          }
        }
      ]
    },
    {
      "cell_type": "markdown",
      "metadata": {
        "id": "_hKWWWoRQtNS"
      },
      "source": [
        "# Grid Search Implementation\n"
      ]
    },
    {
      "cell_type": "code",
      "metadata": {
        "id": "0atyjNRgYv3e",
        "outputId": "cc08a7d7-8235-4898-b85d-a8ba6b6574c9",
        "colab": {
          "base_uri": "https://localhost:8080/"
        }
      },
      "source": [
        "from sklearn.model_selection import GridSearchCV\n",
        "parameters = {'max_depth': [10], 'n_estimators': [40, 50, 70, 80, 100, 120, 150, 170, 200]}\n",
        "\n",
        "grid_search = GridSearchCV(estimator = classifierForrest, param_grid = parameters, \n",
        "                           scoring = 'accuracy', cv = 10, n_jobs = -1)\n",
        "grid_search.fit(X_train, Y_train)\n",
        "best_accuracy = grid_search.best_score_\n",
        "best_params = grid_search.best_params_\n",
        "\n",
        "print(\"BEST Accuracy Random Forest : {:.2f} %\".format(best_accuracy*100))\n",
        "print(\"BEST params for Random Forest : \", best_params)\n",
        "\n",
        "means = grid_search.cv_results_['mean_test_score']\n",
        "stds = grid_search.cv_results_['std_test_score']\n",
        "for mean, std, params in zip(means, stds, grid_search.cv_results_['params']):\n",
        "        print(\"%0.4f (+/-%0.04f) for %r\"% (mean*100, std*100*2, params))"
      ],
      "execution_count": 54,
      "outputs": [
        {
          "output_type": "stream",
          "text": [
            "BEST Accuracy Random Forest : 90.62 %\n",
            "BEST params for Random Forest :  {'max_depth': 10, 'n_estimators': 150}\n",
            "90.0000 (+/-10.7529) for {'max_depth': 10, 'n_estimators': 40}\n",
            "90.0000 (+/-10.7529) for {'max_depth': 10, 'n_estimators': 50}\n",
            "90.3125 (+/-10.6250) for {'max_depth': 10, 'n_estimators': 70}\n",
            "90.0000 (+/-10.0000) for {'max_depth': 10, 'n_estimators': 80}\n",
            "90.0000 (+/-11.4564) for {'max_depth': 10, 'n_estimators': 100}\n",
            "89.6875 (+/-10.8433) for {'max_depth': 10, 'n_estimators': 120}\n",
            "90.6250 (+/-10.4583) for {'max_depth': 10, 'n_estimators': 150}\n",
            "90.6250 (+/-10.4583) for {'max_depth': 10, 'n_estimators': 170}\n",
            "90.6250 (+/-10.4583) for {'max_depth': 10, 'n_estimators': 200}\n"
          ],
          "name": "stdout"
        }
      ]
    }
  ]
}