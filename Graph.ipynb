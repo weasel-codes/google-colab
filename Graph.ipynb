{
  "nbformat": 4,
  "nbformat_minor": 0,
  "metadata": {
    "colab": {
      "name": "Graph.ipynb",
      "provenance": [],
      "authorship_tag": "ABX9TyNqWb6TVeob2EfdC/832PhV",
      "include_colab_link": true
    },
    "kernelspec": {
      "name": "python3",
      "display_name": "Python 3"
    }
  },
  "cells": [
    {
      "cell_type": "markdown",
      "metadata": {
        "id": "view-in-github",
        "colab_type": "text"
      },
      "source": [
        "<a href=\"https://colab.research.google.com/github/weasel-codes/google-colab/blob/coding/Graph.ipynb\" target=\"_parent\"><img src=\"https://colab.research.google.com/assets/colab-badge.svg\" alt=\"Open In Colab\"/></a>"
      ]
    },
    {
      "cell_type": "markdown",
      "metadata": {
        "id": "XExYz2l0Ilvd"
      },
      "source": [
        "# Graph Traversal\n",
        "\n",
        "## Node Structure"
      ]
    },
    {
      "cell_type": "code",
      "metadata": {
        "id": "nH6PgswoGQjk"
      },
      "source": [
        "# Node defining Structure of each graph node\n",
        "class Node :\n",
        "  def __init__(self, data):\n",
        "    self.data = data\n",
        "    self.adjacent = {}\n",
        "\n",
        "  def getAdjacent(self):\n",
        "    return self.adjacent.keys()\n",
        "  \n",
        "  def getValue(self):\n",
        "    return self.data"
      ],
      "execution_count": 68,
      "outputs": []
    },
    {
      "cell_type": "markdown",
      "metadata": {
        "id": "0QaojF9Date8"
      },
      "source": [
        "## Graph Structure"
      ]
    },
    {
      "cell_type": "code",
      "metadata": {
        "id": "MAgn3VJgD7Oo"
      },
      "source": [
        "class Graph : \n",
        "  def __init__(self):\n",
        "    self.vertex = {}\n",
        "    self.numOfVertex = 0\n",
        "\n",
        "  def getVertex(self, val) :\n",
        "    if val in self.vertex :\n",
        "      return self.vertex[val]\n",
        "    else :\n",
        "      return None\n",
        "\n",
        "  def addNode(self, data):\n",
        "    self.numOfVertex+=1\n",
        "    newNode = Node(data)\n",
        "    self.vertex[data] = newNode\n",
        "    return newNode\n",
        "\n",
        "  def addEdge(self, fromData, toData):\n",
        "    if(fromData not in self.vertex):\n",
        "      self.vertex[fromData] = Node(fromData)\n",
        "    if(toData not in self.vertex):\n",
        "      self.vertex[toData] = Node(toData)\n",
        "\n",
        "    fromNode = self.vertex[fromData]\n",
        "    toNode = self.vertex[toData]\n",
        "\n",
        "    fromNode.adjacent[toData] = toNode\n",
        "    toNode.adjacent[fromData] = fromNode\n",
        "\n",
        "  def getVertices(self):\n",
        "    return self.vertex\n"
      ],
      "execution_count": 139,
      "outputs": []
    },
    {
      "cell_type": "markdown",
      "metadata": {
        "id": "rUNG3hkIbSJg"
      },
      "source": [
        "## Generate Graph Functions"
      ]
    },
    {
      "cell_type": "code",
      "metadata": {
        "id": "ZqPD_xgubOi1"
      },
      "source": [
        "from collections import deque  \n",
        "\n",
        "class GraphHelper :\n",
        "\n",
        "  def __init__(self, graph):\n",
        "    self.graph = graph\n",
        "    self.noOfVertex = len(self.graph.vertex.keys())\n",
        "    print(\"Created Graph with number or elements : \", self.noOfVertex)\n",
        "\n",
        "  def getGraph(self):\n",
        "    return self.graph\n",
        "\n",
        "  def BFS(self, node):\n",
        "    visited = {}\n",
        "\n",
        "    for i in self.graph.getVertices().keys():\n",
        "      visited[i] = False\n",
        "\n",
        "    q = deque()\n",
        "    q.append(node)\n",
        "\n",
        "    visited[node] = True\n",
        "    self.recursiveBFS(q, visited)\n",
        "\n",
        "\n",
        "  def recursiveBFS(self, q, visited):\n",
        "    print(q)\n",
        "    if not q:\n",
        "      return\n",
        "\n",
        "    v = q.popleft()\n",
        "    currNode = self.graph.vertex[v]\n",
        "\n",
        "    print(\"Adjacent to curr : \" ,  currNode.adjacent.keys())\n",
        "    for u in currNode.adjacent.keys():\n",
        "      if visited[u] == False:\n",
        "        print(\"Visiting : \", u)\n",
        "        visited[u] = True\n",
        "        q.append(u)\n",
        "    print(q)\n",
        "    self.recursiveBFS(q, visited)\n"
      ],
      "execution_count": 144,
      "outputs": []
    },
    {
      "cell_type": "code",
      "metadata": {
        "id": "2HEH_7XZlZkY",
        "outputId": "beb4474b-9e02-4ceb-f126-e4d1b1402f17",
        "colab": {
          "base_uri": "https://localhost:8080/"
        }
      },
      "source": [
        "graph = Graph()\n",
        "graph.addNode(1)\n",
        "graph.addNode(2)\n",
        "graph.addNode(3)\n",
        "graph.addNode(4)\n",
        "graph.addNode(5)\n",
        "graph.addNode(6)\n",
        "graph.addEdge(1,2)\n",
        "graph.addEdge(1,3)\n",
        "graph.addEdge(2,4)\n",
        "graph.addEdge(2,5)\n",
        "graph.addEdge(4,6)\n",
        "graph.addEdge(5,6)\n",
        "vertices = graph.getVertices()\n",
        "print(\"Generated graph with vertices : \", vertices)\n",
        "\n",
        "graphHelper = GraphHelper(graph)\n",
        "print(graphHelper.BFS(2))"
      ],
      "execution_count": 145,
      "outputs": [
        {
          "output_type": "stream",
          "text": [
            "Generated graph with vertices :  {1: <__main__.Node object at 0x7f0eca1e3278>, 2: <__main__.Node object at 0x7f0eca1e3d68>, 3: <__main__.Node object at 0x7f0eca1e39e8>, 4: <__main__.Node object at 0x7f0eca1e3eb8>, 5: <__main__.Node object at 0x7f0eca1e3390>, 6: <__main__.Node object at 0x7f0eca1e32b0>}\n",
            "Created Graph with number or elements :  6\n",
            "deque([2])\n",
            "Adjacent to curr :  dict_keys([1, 4, 5])\n",
            "Visiting :  1\n",
            "Visiting :  4\n",
            "Visiting :  5\n",
            "deque([1, 4, 5])\n",
            "deque([1, 4, 5])\n",
            "Adjacent to curr :  dict_keys([2, 3])\n",
            "Visiting :  3\n",
            "deque([4, 5, 3])\n",
            "deque([4, 5, 3])\n",
            "Adjacent to curr :  dict_keys([2, 6])\n",
            "Visiting :  6\n",
            "deque([5, 3, 6])\n",
            "deque([5, 3, 6])\n",
            "Adjacent to curr :  dict_keys([2, 6])\n",
            "deque([3, 6])\n",
            "deque([3, 6])\n",
            "Adjacent to curr :  dict_keys([1])\n",
            "deque([6])\n",
            "deque([6])\n",
            "Adjacent to curr :  dict_keys([4, 5])\n",
            "deque([])\n",
            "deque([])\n",
            "None\n"
          ],
          "name": "stdout"
        }
      ]
    },
    {
      "cell_type": "markdown",
      "metadata": {
        "id": "cpMB-GpdIlN3"
      },
      "source": [
        ""
      ]
    }
  ]
}