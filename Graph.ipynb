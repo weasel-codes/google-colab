{
  "nbformat": 4,
  "nbformat_minor": 0,
  "metadata": {
    "colab": {
      "name": "Graph.ipynb",
      "provenance": [],
      "authorship_tag": "ABX9TyMTceXzDqVDMogVkO0KPnIp",
      "include_colab_link": true
    },
    "kernelspec": {
      "name": "python3",
      "display_name": "Python 3"
    }
  },
  "cells": [
    {
      "cell_type": "markdown",
      "metadata": {
        "id": "view-in-github",
        "colab_type": "text"
      },
      "source": [
        "<a href=\"https://colab.research.google.com/github/weasel-codes/google-colab/blob/coding/Graph.ipynb\" target=\"_parent\"><img src=\"https://colab.research.google.com/assets/colab-badge.svg\" alt=\"Open In Colab\"/></a>"
      ]
    },
    {
      "cell_type": "markdown",
      "metadata": {
        "id": "XExYz2l0Ilvd"
      },
      "source": [
        "# Graph Traversal\n",
        "\n",
        "## BFS"
      ]
    },
    {
      "cell_type": "code",
      "metadata": {
        "id": "nH6PgswoGQjk"
      },
      "source": [
        "# Node defining Structure of each graph node\n",
        "class Node :\n",
        "  def __init__(self, data):\n",
        "    self.data = data\n",
        "    self.adjacent = {}\n",
        "\n",
        "  def getAdjacent(self):\n",
        "    return self.adjacent.keys()\n",
        "  \n",
        "  def getValue(self):\n",
        "    return self.data"
      ],
      "execution_count": 31,
      "outputs": []
    },
    {
      "cell_type": "code",
      "metadata": {
        "id": "MAgn3VJgD7Oo"
      },
      "source": [
        "class Graph : \n",
        "  def __init__(self):\n",
        "    self.vertex = {}\n",
        "    self.numOfVertex = 0\n",
        "\n",
        "  def getVertex(self, val) :\n",
        "    if val in self.vertex :\n",
        "      return self.vertex[val]\n",
        "    else :\n",
        "      return None\n",
        "\n",
        "  def addNode(self, data):\n",
        "    self.numOfVertex+=1\n",
        "    newNode = Node(data)\n",
        "    self.vertex[data] = newNode\n",
        "    return newNode\n",
        "\n",
        "  def addEdge(self, fromData, toData):\n",
        "    if(fromData not in self.vertex):\n",
        "      self.vertex[fromData] = Node(fromData)\n",
        "    if(toData not in self.vertex):\n",
        "      self.vertex[toData] = Node(toData)\n",
        "\n",
        "    fromNode = self.vertex[fromData]\n",
        "    toNode = self.vertex[toData]\n",
        "\n",
        "    fromNode.adjacent[toData] = toNode\n",
        "    toNode.adjacent[fromData] = fromNode\n",
        "\n",
        "  def getVertices(self):\n",
        "    return self.vertex.keys()\n"
      ],
      "execution_count": 32,
      "outputs": []
    },
    {
      "cell_type": "code",
      "metadata": {
        "id": "s0PMnAjRhGLe",
        "outputId": "f70732cc-3f2f-4259-930e-02a839fceaf6",
        "colab": {
          "base_uri": "https://localhost:8080/"
        }
      },
      "source": [
        "graph = Graph()\n",
        "graph.addNode(1)\n",
        "graph.addNode(2)\n",
        "graph.addNode(3)\n",
        "graph.addNode(4)\n",
        "graph.addEdge(1,2)\n",
        "graph.addEdge(1,3)\n",
        "vertices = graph.getVertices() \n",
        "for i in vertices:\n",
        "  print(\"For Node {}, Adjacent Nodes : {}\".format(graph.getVertex(i).getValue(), graph.getVertex(i).getAdjacent()))"
      ],
      "execution_count": 34,
      "outputs": [
        {
          "output_type": "stream",
          "text": [
            "For Node 1, Adjacent Nodes : dict_keys([2, 3])\n",
            "For Node 2, Adjacent Nodes : dict_keys([1])\n",
            "For Node 3, Adjacent Nodes : dict_keys([1])\n",
            "For Node 4, Adjacent Nodes : dict_keys([])\n"
          ],
          "name": "stdout"
        }
      ]
    },
    {
      "cell_type": "markdown",
      "metadata": {
        "id": "cpMB-GpdIlN3"
      },
      "source": [
        ""
      ]
    }
  ]
}