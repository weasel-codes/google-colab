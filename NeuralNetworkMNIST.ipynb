{
  "nbformat": 4,
  "nbformat_minor": 0,
  "metadata": {
    "colab": {
      "name": "NeuralNetworkMNIST.ipynb",
      "provenance": [],
      "authorship_tag": "ABX9TyO2GxrijxBgRPBWGXnWyXii",
      "include_colab_link": true
    },
    "kernelspec": {
      "name": "python3",
      "display_name": "Python 3"
    }
  },
  "cells": [
    {
      "cell_type": "markdown",
      "metadata": {
        "id": "view-in-github",
        "colab_type": "text"
      },
      "source": [
        "<a href=\"https://colab.research.google.com/github/weasel-codes/google-colab/blob/coding/NeuralNetworkMNIST.ipynb\" target=\"_parent\"><img src=\"https://colab.research.google.com/assets/colab-badge.svg\" alt=\"Open In Colab\"/></a>"
      ]
    },
    {
      "cell_type": "markdown",
      "metadata": {
        "id": "qthO4mIPMnAc"
      },
      "source": [
        "# Load Inbuilt Dataset from Keras"
      ]
    },
    {
      "cell_type": "code",
      "metadata": {
        "id": "8dh16gp_JDZB"
      },
      "source": [
        "from keras.datasets import mnist\n",
        "(X_Train,Y_Train),(X_Test,Y_Test)=mnist.load_data()"
      ],
      "execution_count": 1,
      "outputs": []
    },
    {
      "cell_type": "markdown",
      "metadata": {
        "id": "Bt0u5EyrMmoX"
      },
      "source": [
        "# Print size of Train and Test Dataset"
      ]
    },
    {
      "cell_type": "code",
      "metadata": {
        "colab": {
          "base_uri": "https://localhost:8080/"
        },
        "id": "yhqgABBjMgdU",
        "outputId": "ddbf36fa-aec3-4f4a-df1d-fda1830fecf6"
      },
      "source": [
        "print(\"Train Data : \\t\", X_Train.shape)\n",
        "print(\"Test Data : \\t\", Y_Train.shape)\n",
        "print(\"Train Output : \\t\", X_Test.shape)\n",
        "print(\"Test Output : \\t\", Y_Test.shape)"
      ],
      "execution_count": 2,
      "outputs": [
        {
          "output_type": "stream",
          "text": [
            "Train Data : \t (60000, 28, 28)\n",
            "Test Data : \t (60000,)\n",
            "Train Output : \t (10000, 28, 28)\n",
            "Test Output : \t (10000,)\n"
          ],
          "name": "stdout"
        }
      ]
    },
    {
      "cell_type": "markdown",
      "metadata": {
        "id": "OVxOJSRJNVc6"
      },
      "source": [
        "# Visualize Data"
      ]
    },
    {
      "cell_type": "code",
      "metadata": {
        "colab": {
          "base_uri": "https://localhost:8080/",
          "height": 282
        },
        "id": "Np3roMaFNXm5",
        "outputId": "b026bc25-5361-41e5-d198-99e50bd1121f"
      },
      "source": [
        "from matplotlib import pyplot as plt\n",
        "print(\"Output Value : \", Y_Train[0])\n",
        "plt.imshow(X_Train[0],cmap='gray')\n",
        "plt.show()\n"
      ],
      "execution_count": 3,
      "outputs": [
        {
          "output_type": "stream",
          "text": [
            "Output Value :  5\n"
          ],
          "name": "stdout"
        },
        {
          "output_type": "display_data",
          "data": {
            "image/png": "[encoded data removed]",
            "text/plain": [
              "<Figure size 432x288 with 1 Axes>"
            ]
          },
          "metadata": {
            "tags": [],
            "needs_background": "light"
          }
        }
      ]
    },
    {
      "cell_type": "markdown",
      "metadata": {
        "id": "ux07kTK5RXFV"
      },
      "source": [
        "# Creating categorical training Output"
      ]
    },
    {
      "cell_type": "code",
      "metadata": {
        "id": "BfzXcQl8RdhB"
      },
      "source": [
        "from keras.utils import np_utils\n",
        "Y_Train=np_utils.to_categorical(Y_Train)\n",
        "Y_Test=np_utils.to_categorical(Y_Test)"
      ],
      "execution_count": 4,
      "outputs": []
    },
    {
      "cell_type": "markdown",
      "metadata": {
        "id": "KZwN1rUBRiI2"
      },
      "source": [
        "# Normalizaing Gray scale value"
      ]
    },
    {
      "cell_type": "code",
      "metadata": {
        "colab": {
          "base_uri": "https://localhost:8080/"
        },
        "id": "u2LnQqmORwdG",
        "outputId": "a53b3713-6d1e-49e9-ddaa-8fdc682a1e8d"
      },
      "source": [
        "X_Train=X_Train/255\n",
        "X_Test=X_Test/255\n",
        "print(X_Train[5,15:20,15:20])"
      ],
      "execution_count": 5,
      "outputs": [
        {
          "output_type": "stream",
          "text": [
            "[[0.94901961 0.98823529 0.98823529 0.90588235 0.45882353]\n",
            " [0.81568627 0.98823529 0.98823529 0.98823529 0.98823529]\n",
            " [0.99215686 0.96862745 0.50588235 0.67843137 0.98823529]\n",
            " [0.84705882 0.25490196 0.         0.05490196 0.28235294]\n",
            " [0.11372549 0.         0.         0.         0.        ]]\n"
          ],
          "name": "stdout"
        }
      ]
    },
    {
      "cell_type": "markdown",
      "metadata": {
        "id": "0Nvr-dzXPTRV"
      },
      "source": [
        "# Creating *ANN* and Configuring Parameters"
      ]
    },
    {
      "cell_type": "code",
      "metadata": {
        "id": "zHHLDKlgdRUW"
      },
      "source": [
        "from keras.models import Sequential\n",
        "from keras.layers import Dense,Flatten\n",
        "from keras.optimizers import SGD\n",
        "# Training the ANN on the Training set\n",
        "batches = [1, 2, 4, 6, 16, 32, 64]\n",
        "learning_rate = [0.01, 0.05, 0.1, 0.2, 0.4, 0.8]\n",
        "hidden_layers = [1, 2, 4, 8]"
      ],
      "execution_count": 6,
      "outputs": []
    },
    {
      "cell_type": "markdown",
      "metadata": {
        "id": "PNUvjC87cWJ-"
      },
      "source": [
        "## Experiments with batch size"
      ]
    },
    {
      "cell_type": "code",
      "metadata": {
        "colab": {
          "base_uri": "https://localhost:8080/"
        },
        "id": "E4n-7gbCPVqn",
        "outputId": "b2a29430-e210-4ca6-e8e1-5280e29344ff"
      },
      "source": [
        "batch_accuracy = {}\n",
        "\n",
        "for batch in batches :\n",
        "  # for batch in batches :\n",
        "  ann=Sequential()\n",
        "  ann.add(Flatten(input_shape=(28,28)))\n",
        "  ann.add(Dense(100,activation='relu'))\n",
        "  ann.add(Dense(100,activation='relu'))\n",
        "  ann.add(Dense(10,activation='softmax'))\n",
        "\n",
        "  # Compile model\n",
        "  sgd = SGD(lr=0.01)\n",
        "  ann.compile(loss='categorical_crossentropy', optimizer=sgd, metrics=['accuracy'])\n",
        "\n",
        "  print(\"################################\\n for Batch size = \", batch, \" and epoch = \", 10)\n",
        "  ann.fit(X_Train, Y_Train, batch_size = batch, epochs = 10)\n",
        "  batch_accuracy[batch]=max(ann.history.history['accuracy'])\n"
      ],
      "execution_count": 7,
      "outputs": [
        {
          "output_type": "stream",
          "text": [
            "################################3\n",
            " for Batch size =  1  and epoch =  10\n",
            "Epoch 1/10\n",
            "60000/60000 [==============================] - 55s 914us/step - loss: 0.2252 - accuracy: 0.9301\n",
            "Epoch 2/10\n",
            "60000/60000 [==============================] - 54s 892us/step - loss: 0.1052 - accuracy: 0.9682\n",
            "Epoch 3/10\n",
            "60000/60000 [==============================] - 56s 927us/step - loss: 0.0772 - accuracy: 0.9756\n",
            "Epoch 4/10\n",
            "60000/60000 [==============================] - 56s 926us/step - loss: 0.0623 - accuracy: 0.9800\n",
            "Epoch 5/10\n",
            "60000/60000 [==============================] - 55s 919us/step - loss: 0.0491 - accuracy: 0.9847\n",
            "Epoch 6/10\n",
            "60000/60000 [==============================] - 54s 906us/step - loss: 0.0437 - accuracy: 0.9859\n",
            "Epoch 7/10\n",
            "60000/60000 [==============================] - 55s 920us/step - loss: 0.0372 - accuracy: 0.9883\n",
            "Epoch 8/10\n",
            "60000/60000 [==============================] - 56s 928us/step - loss: 0.0329 - accuracy: 0.9893\n",
            "Epoch 9/10\n",
            "60000/60000 [==============================] - 55s 921us/step - loss: 0.0271 - accuracy: 0.9911\n",
            "Epoch 10/10\n",
            "60000/60000 [==============================] - 55s 916us/step - loss: 0.0271 - accuracy: 0.9907\n",
            "################################3\n",
            " for Batch size =  2  and epoch =  10\n",
            "Epoch 1/10\n",
            "30000/30000 [==============================] - 29s 977us/step - loss: 0.2414 - accuracy: 0.9271\n",
            "Epoch 2/10\n",
            "30000/30000 [==============================] - 29s 965us/step - loss: 0.1086 - accuracy: 0.9671\n",
            "Epoch 3/10\n",
            "30000/30000 [==============================] - 29s 969us/step - loss: 0.0791 - accuracy: 0.9749\n",
            "Epoch 4/10\n",
            "30000/30000 [==============================] - 29s 964us/step - loss: 0.0602 - accuracy: 0.9809\n",
            "Epoch 5/10\n",
            "30000/30000 [==============================] - 28s 948us/step - loss: 0.0482 - accuracy: 0.9844\n",
            "Epoch 6/10\n",
            "30000/30000 [==============================] - 29s 958us/step - loss: 0.0398 - accuracy: 0.9869\n",
            "Epoch 7/10\n",
            "30000/30000 [==============================] - 29s 968us/step - loss: 0.0318 - accuracy: 0.9895\n",
            "Epoch 8/10\n",
            "30000/30000 [==============================] - 30s 990us/step - loss: 0.0257 - accuracy: 0.9914\n",
            "Epoch 9/10\n",
            "30000/30000 [==============================] - 29s 980us/step - loss: 0.0242 - accuracy: 0.9919\n",
            "Epoch 10/10\n",
            "30000/30000 [==============================] - 29s 982us/step - loss: 0.0178 - accuracy: 0.9941\n",
            "################################3\n",
            " for Batch size =  4  and epoch =  10\n",
            "Epoch 1/10\n",
            "15000/15000 [==============================] - 15s 1ms/step - loss: 0.2977 - accuracy: 0.9138\n",
            "Epoch 2/10\n",
            "15000/15000 [==============================] - 15s 1ms/step - loss: 0.1316 - accuracy: 0.9603\n",
            "Epoch 3/10\n",
            "15000/15000 [==============================] - 15s 1ms/step - loss: 0.0919 - accuracy: 0.9720\n",
            "Epoch 4/10\n",
            "15000/15000 [==============================] - 15s 1ms/step - loss: 0.0722 - accuracy: 0.9777\n",
            "Epoch 5/10\n",
            "15000/15000 [==============================] - 15s 1ms/step - loss: 0.0580 - accuracy: 0.9815\n",
            "Epoch 6/10\n",
            "15000/15000 [==============================] - 15s 1ms/step - loss: 0.0491 - accuracy: 0.9846\n",
            "Epoch 7/10\n",
            "15000/15000 [==============================] - 16s 1ms/step - loss: 0.0396 - accuracy: 0.9875\n",
            "Epoch 8/10\n",
            "15000/15000 [==============================] - 15s 1ms/step - loss: 0.0326 - accuracy: 0.9896\n",
            "Epoch 9/10\n",
            "15000/15000 [==============================] - 15s 994us/step - loss: 0.0270 - accuracy: 0.9919\n",
            "Epoch 10/10\n",
            "15000/15000 [==============================] - 15s 1ms/step - loss: 0.0228 - accuracy: 0.9934\n",
            "################################3\n",
            " for Batch size =  6  and epoch =  10\n",
            "Epoch 1/10\n",
            "10000/10000 [==============================] - 10s 1ms/step - loss: 0.3399 - accuracy: 0.9015\n",
            "Epoch 2/10\n",
            "10000/10000 [==============================] - 10s 1ms/step - loss: 0.1575 - accuracy: 0.9528\n",
            "Epoch 3/10\n",
            "10000/10000 [==============================] - 10s 1ms/step - loss: 0.1129 - accuracy: 0.9664\n",
            "Epoch 4/10\n",
            "10000/10000 [==============================] - 10s 1ms/step - loss: 0.0889 - accuracy: 0.9738\n",
            "Epoch 5/10\n",
            "10000/10000 [==============================] - 10s 1ms/step - loss: 0.0729 - accuracy: 0.9781\n",
            "Epoch 6/10\n",
            "10000/10000 [==============================] - 10s 1ms/step - loss: 0.0610 - accuracy: 0.9817\n",
            "Epoch 7/10\n",
            "10000/10000 [==============================] - 11s 1ms/step - loss: 0.0528 - accuracy: 0.9835\n",
            "Epoch 8/10\n",
            "10000/10000 [==============================] - 11s 1ms/step - loss: 0.0444 - accuracy: 0.9868\n",
            "Epoch 9/10\n",
            "10000/10000 [==============================] - 10s 1ms/step - loss: 0.0393 - accuracy: 0.9879\n",
            "Epoch 10/10\n",
            "10000/10000 [==============================] - 10s 1ms/step - loss: 0.0336 - accuracy: 0.9901\n",
            "################################3\n",
            " for Batch size =  16  and epoch =  10\n",
            "Epoch 1/10\n",
            "3750/3750 [==============================] - 4s 1ms/step - loss: 0.4767 - accuracy: 0.8678\n",
            "Epoch 2/10\n",
            "3750/3750 [==============================] - 4s 1ms/step - loss: 0.2354 - accuracy: 0.9320\n",
            "Epoch 3/10\n",
            "3750/3750 [==============================] - 4s 1ms/step - loss: 0.1809 - accuracy: 0.9482\n",
            "Epoch 4/10\n",
            "3750/3750 [==============================] - 5s 1ms/step - loss: 0.1476 - accuracy: 0.9574\n",
            "Epoch 5/10\n",
            "3750/3750 [==============================] - 5s 1ms/step - loss: 0.1250 - accuracy: 0.9643\n",
            "Epoch 6/10\n",
            "3750/3750 [==============================] - 4s 1ms/step - loss: 0.1087 - accuracy: 0.9687\n",
            "Epoch 7/10\n",
            "3750/3750 [==============================] - 4s 1ms/step - loss: 0.0952 - accuracy: 0.9723\n",
            "Epoch 8/10\n",
            "3750/3750 [==============================] - 4s 1ms/step - loss: 0.0843 - accuracy: 0.9758\n",
            "Epoch 9/10\n",
            "3750/3750 [==============================] - 4s 1ms/step - loss: 0.0758 - accuracy: 0.9781\n",
            "Epoch 10/10\n",
            "3750/3750 [==============================] - 4s 1ms/step - loss: 0.0684 - accuracy: 0.9801\n",
            "################################3\n",
            " for Batch size =  32  and epoch =  10\n",
            "Epoch 1/10\n",
            "1875/1875 [==============================] - 3s 1ms/step - loss: 0.6438 - accuracy: 0.8288\n",
            "Epoch 2/10\n",
            "1875/1875 [==============================] - 3s 1ms/step - loss: 0.3012 - accuracy: 0.9130\n",
            "Epoch 3/10\n",
            "1875/1875 [==============================] - 3s 1ms/step - loss: 0.2519 - accuracy: 0.9266\n",
            "Epoch 4/10\n",
            "1875/1875 [==============================] - 3s 1ms/step - loss: 0.2192 - accuracy: 0.9366\n",
            "Epoch 5/10\n",
            "1875/1875 [==============================] - 3s 1ms/step - loss: 0.1948 - accuracy: 0.9431\n",
            "Epoch 6/10\n",
            "1875/1875 [==============================] - 3s 1ms/step - loss: 0.1749 - accuracy: 0.9493\n",
            "Epoch 7/10\n",
            "1875/1875 [==============================] - 3s 1ms/step - loss: 0.1595 - accuracy: 0.9536\n",
            "Epoch 8/10\n",
            "1875/1875 [==============================] - 3s 1ms/step - loss: 0.1456 - accuracy: 0.9578\n",
            "Epoch 9/10\n",
            "1875/1875 [==============================] - 3s 1ms/step - loss: 0.1341 - accuracy: 0.9613\n",
            "Epoch 10/10\n",
            "1875/1875 [==============================] - 3s 1ms/step - loss: 0.1244 - accuracy: 0.9645\n",
            "################################3\n",
            " for Batch size =  64  and epoch =  10\n",
            "Epoch 1/10\n",
            "938/938 [==============================] - 2s 2ms/step - loss: 0.9243 - accuracy: 0.7635\n",
            "Epoch 2/10\n",
            "938/938 [==============================] - 2s 2ms/step - loss: 0.3748 - accuracy: 0.8951\n",
            "Epoch 3/10\n",
            "938/938 [==============================] - 2s 2ms/step - loss: 0.3108 - accuracy: 0.9123\n",
            "Epoch 4/10\n",
            "938/938 [==============================] - 2s 2ms/step - loss: 0.2759 - accuracy: 0.9213\n",
            "Epoch 5/10\n",
            "938/938 [==============================] - 2s 2ms/step - loss: 0.2508 - accuracy: 0.9284\n",
            "Epoch 6/10\n",
            "938/938 [==============================] - 2s 2ms/step - loss: 0.2310 - accuracy: 0.9342\n",
            "Epoch 7/10\n",
            "938/938 [==============================] - 2s 2ms/step - loss: 0.2150 - accuracy: 0.9391\n",
            "Epoch 8/10\n",
            "938/938 [==============================] - 2s 2ms/step - loss: 0.2011 - accuracy: 0.9432\n",
            "Epoch 9/10\n",
            "938/938 [==============================] - 2s 2ms/step - loss: 0.1897 - accuracy: 0.9460\n",
            "Epoch 10/10\n",
            "938/938 [==============================] - 2s 2ms/step - loss: 0.1792 - accuracy: 0.9488\n"
          ],
          "name": "stdout"
        }
      ]
    },
    {
      "cell_type": "code",
      "metadata": {
        "colab": {
          "base_uri": "https://localhost:8080/",
          "height": 417
        },
        "id": "_2O-VewQajdO",
        "outputId": "eab49e67-faaf-4588-ceb0-aaab7e20cc68"
      },
      "source": [
        "#Printing max accuracies of all \n",
        "for key in batch_accuracy.keys() :\n",
        "  print(\"Max accuracy for \", key ,\" : \", batch_accuracy[key])\n",
        "\n",
        "plt.plot(list(batch_accuracy.keys()), list(batch_accuracy.values()))\n",
        "plt.ylabel('Accuracy Score')\n",
        "plt.xlabel('Batch Size')\n",
        "plt.title('Performance on the validation set(wrt Learning Rate)')\n",
        "plt.show()"
      ],
      "execution_count": 27,
      "outputs": [
        {
          "output_type": "stream",
          "text": [
            "Max accuracy for  1  :  0.9910500049591064\n",
            "Max accuracy for  2  :  0.9940833449363708\n",
            "Max accuracy for  4  :  0.9934333562850952\n",
            "Max accuracy for  6  :  0.9900500178337097\n",
            "Max accuracy for  16  :  0.9800999760627747\n",
            "Max accuracy for  32  :  0.9645333290100098\n",
            "Max accuracy for  64  :  0.9487500190734863\n"
          ],
          "name": "stdout"
        },
        {
          "output_type": "display_data",
          "data": {
            "image/png": "[encoded data removed]",
            "text/plain": [
              "<Figure size 432x288 with 1 Axes>"
            ]
          },
          "metadata": {
            "tags": [],
            "needs_background": "light"
          }
        }
      ]
    },
    {
      "cell_type": "markdown",
      "metadata": {
        "id": "HpE3-l_2Spqo"
      },
      "source": [
        "## Experiment with learning rate"
      ]
    },
    {
      "cell_type": "code",
      "metadata": {
        "colab": {
          "base_uri": "https://localhost:8080/"
        },
        "id": "roRp9E-KUZ8z",
        "outputId": "393fb0dc-e501-4f59-df15-41facad489a3"
      },
      "source": [
        "learning_rate_accuracy = {}\n",
        "\n",
        "for rate in learning_rate :\n",
        "  # for batch in batches :\n",
        "  ann=Sequential()\n",
        "  ann.add(Flatten(input_shape=(28,28)))\n",
        "  ann.add(Dense(100,activation='relu'))\n",
        "  ann.add(Dense(100,activation='relu'))\n",
        "  ann.add(Dense(10,activation='softmax'))\n",
        "\n",
        "  # Compile model\n",
        "  sgd = SGD(lr=rate)\n",
        "  ann.compile(loss='categorical_crossentropy', optimizer=sgd, metrics=['accuracy'])\n",
        "\n",
        "  print(\"################################3\\n for Learning rate = \", rate, \" and epoch = \", 10)\n",
        "  ann.fit(X_Train, Y_Train, batch_size = 40, epochs = 10)\n",
        "  learning_rate_accuracy[rate]=max(ann.history.history['accuracy'])"
      ],
      "execution_count": 11,
      "outputs": [
        {
          "output_type": "stream",
          "text": [
            "################################3\n",
            " for Learning rate =  0.01  and epoch =  20\n",
            "Epoch 1/10\n",
            "1500/1500 [==============================] - 2s 2ms/step - loss: 0.7086 - accuracy: 0.8178\n",
            "Epoch 2/10\n",
            "1500/1500 [==============================] - 2s 1ms/step - loss: 0.3257 - accuracy: 0.9065\n",
            "Epoch 3/10\n",
            "1500/1500 [==============================] - 2s 1ms/step - loss: 0.2737 - accuracy: 0.9209\n",
            "Epoch 4/10\n",
            "1500/1500 [==============================] - 2s 1ms/step - loss: 0.2405 - accuracy: 0.9301\n",
            "Epoch 5/10\n",
            "1500/1500 [==============================] - 2s 1ms/step - loss: 0.2151 - accuracy: 0.9380\n",
            "Epoch 6/10\n",
            "1500/1500 [==============================] - 2s 1ms/step - loss: 0.1942 - accuracy: 0.9438\n",
            "Epoch 7/10\n",
            "1500/1500 [==============================] - 2s 2ms/step - loss: 0.1772 - accuracy: 0.9484\n",
            "Epoch 8/10\n",
            "1500/1500 [==============================] - 2s 1ms/step - loss: 0.1628 - accuracy: 0.9526\n",
            "Epoch 9/10\n",
            "1500/1500 [==============================] - 2s 2ms/step - loss: 0.1507 - accuracy: 0.9560\n",
            "Epoch 10/10\n",
            "1500/1500 [==============================] - 2s 1ms/step - loss: 0.1398 - accuracy: 0.9589\n",
            "################################3\n",
            " for Learning rate =  0.05  and epoch =  20\n",
            "Epoch 1/10\n",
            "1500/1500 [==============================] - 2s 1ms/step - loss: 0.3771 - accuracy: 0.8920\n",
            "Epoch 2/10\n",
            "1500/1500 [==============================] - 2s 1ms/step - loss: 0.1753 - accuracy: 0.9491\n",
            "Epoch 3/10\n",
            "1500/1500 [==============================] - 2s 1ms/step - loss: 0.1278 - accuracy: 0.9626\n",
            "Epoch 4/10\n",
            "1500/1500 [==============================] - 2s 2ms/step - loss: 0.1000 - accuracy: 0.9705\n",
            "Epoch 5/10\n",
            "1500/1500 [==============================] - 2s 1ms/step - loss: 0.0829 - accuracy: 0.9752\n",
            "Epoch 6/10\n",
            "1500/1500 [==============================] - 2s 1ms/step - loss: 0.0694 - accuracy: 0.9793\n",
            "Epoch 7/10\n",
            "1500/1500 [==============================] - 2s 2ms/step - loss: 0.0592 - accuracy: 0.9821\n",
            "Epoch 8/10\n",
            "1500/1500 [==============================] - 2s 1ms/step - loss: 0.0519 - accuracy: 0.9847\n",
            "Epoch 9/10\n",
            "1500/1500 [==============================] - 2s 2ms/step - loss: 0.0453 - accuracy: 0.9868\n",
            "Epoch 10/10\n",
            "1500/1500 [==============================] - 2s 1ms/step - loss: 0.0398 - accuracy: 0.9883\n",
            "################################3\n",
            " for Learning rate =  0.1  and epoch =  20\n",
            "Epoch 1/10\n",
            "1500/1500 [==============================] - 2s 1ms/step - loss: 0.3035 - accuracy: 0.9106\n",
            "Epoch 2/10\n",
            "1500/1500 [==============================] - 2s 1ms/step - loss: 0.1314 - accuracy: 0.9604\n",
            "Epoch 3/10\n",
            "1500/1500 [==============================] - 2s 1ms/step - loss: 0.0931 - accuracy: 0.9721\n",
            "Epoch 4/10\n",
            "1500/1500 [==============================] - 2s 1ms/step - loss: 0.0742 - accuracy: 0.9771\n",
            "Epoch 5/10\n",
            "1500/1500 [==============================] - 2s 2ms/step - loss: 0.0602 - accuracy: 0.9817\n",
            "Epoch 6/10\n",
            "1500/1500 [==============================] - 2s 2ms/step - loss: 0.0500 - accuracy: 0.9844\n",
            "Epoch 7/10\n",
            "1500/1500 [==============================] - 2s 2ms/step - loss: 0.0433 - accuracy: 0.9865\n",
            "Epoch 8/10\n",
            "1500/1500 [==============================] - 2s 2ms/step - loss: 0.0352 - accuracy: 0.9894\n",
            "Epoch 9/10\n",
            "1500/1500 [==============================] - 2s 2ms/step - loss: 0.0306 - accuracy: 0.9905\n",
            "Epoch 10/10\n",
            "1500/1500 [==============================] - 2s 2ms/step - loss: 0.0247 - accuracy: 0.9923\n",
            "################################3\n",
            " for Learning rate =  0.2  and epoch =  20\n",
            "Epoch 1/10\n",
            "1500/1500 [==============================] - 2s 2ms/step - loss: 0.2581 - accuracy: 0.9220\n",
            "Epoch 2/10\n",
            "1500/1500 [==============================] - 2s 2ms/step - loss: 0.1112 - accuracy: 0.9662\n",
            "Epoch 3/10\n",
            "1500/1500 [==============================] - 2s 2ms/step - loss: 0.0775 - accuracy: 0.9760\n",
            "Epoch 4/10\n",
            "1500/1500 [==============================] - 2s 2ms/step - loss: 0.0621 - accuracy: 0.9803\n",
            "Epoch 5/10\n",
            "1500/1500 [==============================] - 2s 2ms/step - loss: 0.0470 - accuracy: 0.9851\n",
            "Epoch 6/10\n",
            "1500/1500 [==============================] - 2s 2ms/step - loss: 0.0373 - accuracy: 0.9880\n",
            "Epoch 7/10\n",
            "1500/1500 [==============================] - 2s 2ms/step - loss: 0.0312 - accuracy: 0.9895\n",
            "Epoch 8/10\n",
            "1500/1500 [==============================] - 2s 2ms/step - loss: 0.0263 - accuracy: 0.9915\n",
            "Epoch 9/10\n",
            "1500/1500 [==============================] - 2s 2ms/step - loss: 0.0206 - accuracy: 0.9936\n",
            "Epoch 10/10\n",
            "1500/1500 [==============================] - 2s 2ms/step - loss: 0.0159 - accuracy: 0.9948\n",
            "################################3\n",
            " for Learning rate =  0.4  and epoch =  20\n",
            "Epoch 1/10\n",
            "1500/1500 [==============================] - 2s 2ms/step - loss: 0.2589 - accuracy: 0.9200\n",
            "Epoch 2/10\n",
            "1500/1500 [==============================] - 2s 2ms/step - loss: 0.1152 - accuracy: 0.9649\n",
            "Epoch 3/10\n",
            "1500/1500 [==============================] - 2s 2ms/step - loss: 0.0860 - accuracy: 0.9727\n",
            "Epoch 4/10\n",
            "1500/1500 [==============================] - 2s 2ms/step - loss: 0.0684 - accuracy: 0.9784\n",
            "Epoch 5/10\n",
            "1500/1500 [==============================] - 2s 2ms/step - loss: 0.0569 - accuracy: 0.9822\n",
            "Epoch 6/10\n",
            "1500/1500 [==============================] - 2s 2ms/step - loss: 0.0481 - accuracy: 0.9847\n",
            "Epoch 7/10\n",
            "1500/1500 [==============================] - 2s 2ms/step - loss: 0.0430 - accuracy: 0.9862\n",
            "Epoch 8/10\n",
            "1500/1500 [==============================] - 2s 2ms/step - loss: 0.0357 - accuracy: 0.9884\n",
            "Epoch 9/10\n",
            "1500/1500 [==============================] - 2s 2ms/step - loss: 0.0329 - accuracy: 0.9893\n",
            "Epoch 10/10\n",
            "1500/1500 [==============================] - 2s 1ms/step - loss: 0.0295 - accuracy: 0.9901\n",
            "################################3\n",
            " for Learning rate =  0.8  and epoch =  20\n",
            "Epoch 1/10\n",
            "1500/1500 [==============================] - 2s 2ms/step - loss: 0.4128 - accuracy: 0.8763\n",
            "Epoch 2/10\n",
            "1500/1500 [==============================] - 2s 2ms/step - loss: 0.2063 - accuracy: 0.9420\n",
            "Epoch 3/10\n",
            "1500/1500 [==============================] - 2s 2ms/step - loss: 0.1748 - accuracy: 0.9515\n",
            "Epoch 4/10\n",
            "1500/1500 [==============================] - 2s 2ms/step - loss: 0.1547 - accuracy: 0.9569\n",
            "Epoch 5/10\n",
            "1500/1500 [==============================] - 2s 2ms/step - loss: 0.1446 - accuracy: 0.9602\n",
            "Epoch 6/10\n",
            "1500/1500 [==============================] - 2s 2ms/step - loss: 0.1369 - accuracy: 0.9631\n",
            "Epoch 7/10\n",
            "1500/1500 [==============================] - 2s 1ms/step - loss: 0.1379 - accuracy: 0.9627\n",
            "Epoch 8/10\n",
            "1500/1500 [==============================] - 2s 2ms/step - loss: 0.1357 - accuracy: 0.9643\n",
            "Epoch 9/10\n",
            "1500/1500 [==============================] - 2s 2ms/step - loss: 0.1203 - accuracy: 0.9682\n",
            "Epoch 10/10\n",
            "1500/1500 [==============================] - 2s 2ms/step - loss: 0.1222 - accuracy: 0.9690\n"
          ],
          "name": "stdout"
        }
      ]
    },
    {
      "cell_type": "code",
      "metadata": {
        "colab": {
          "base_uri": "https://localhost:8080/",
          "height": 400
        },
        "id": "KCsrzdCqbpEV",
        "outputId": "b4191fa2-93e4-4964-f50c-8b6d975843f3"
      },
      "source": [
        "# Learning Rate wise accuracies\n",
        "#Printing max accuracies of all \n",
        "for key in learning_rate_accuracy.keys() :\n",
        "  print(\"Max accuracy for \", key ,\" : \", learning_rate_accuracy[key])\n",
        "\n",
        "plt.plot(list(learning_rate_accuracy.keys()), list(learning_rate_accuracy.values()))\n",
        "plt.ylabel('Accuracy Score')\n",
        "plt.xlabel('learning_rate')\n",
        "plt.title('Performance on the validation set(wrt Learning Rate)')\n",
        "plt.show()"
      ],
      "execution_count": 22,
      "outputs": [
        {
          "output_type": "stream",
          "text": [
            "Max accuracy for  0.01  :  0.9589166641235352\n",
            "Max accuracy for  0.05  :  0.9883333444595337\n",
            "Max accuracy for  0.1  :  0.9922833442687988\n",
            "Max accuracy for  0.2  :  0.9947500228881836\n",
            "Max accuracy for  0.4  :  0.9901333451271057\n",
            "Max accuracy for  0.8  :  0.9690166711807251\n"
          ],
          "name": "stdout"
        },
        {
          "output_type": "display_data",
          "data": {
            "image/png": "[encoded data removed]",
            "text/plain": [
              "<Figure size 432x288 with 1 Axes>"
            ]
          },
          "metadata": {
            "tags": [],
            "needs_background": "light"
          }
        }
      ]
    },
    {
      "cell_type": "markdown",
      "metadata": {
        "id": "us_c7q2Tb3z0"
      },
      "source": [
        "## Experiment with number of Hidden Layers"
      ]
    },
    {
      "cell_type": "code",
      "metadata": {
        "colab": {
          "base_uri": "https://localhost:8080/"
        },
        "id": "RJdPMddFb_qr",
        "outputId": "51b25ea6-f4a2-4bd3-b777-02a2b65ff3e6"
      },
      "source": [
        "hidden_layers_accuracy = {}\n",
        "\n",
        "# for batch in batches :\n",
        "for i in hidden_layers :\n",
        "  print(\"################################\\n for hidden layers = \", i, \" and epoch = \", 10, \" and hidden layers : \" , i)\n",
        "  ann=Sequential()\n",
        "  j = 0\n",
        "  ann.add(Flatten(input_shape=(28,28)))\n",
        "  while j < i :\n",
        "    ann.add(Dense(100,activation='relu'))\n",
        "    j=j+1\n",
        "  ann.add(Dense(10,activation='softmax'))\n",
        "  ann.summary()\n",
        "\n",
        "  # Compile model\n",
        "  sgd = SGD(lr=0.01)\n",
        "  ann.compile(loss='categorical_crossentropy', optimizer=sgd, metrics=['accuracy'])\n",
        "  ann.fit(X_Train, Y_Train, batch_size = 40, epochs = 10)\n",
        "  hidden_layers_accuracy[i]=max(ann.history.history['accuracy'])\n"
      ],
      "execution_count": 17,
      "outputs": [
        {
          "output_type": "stream",
          "text": [
            "################################\n",
            " for hidden layers =  1  and epoch =  10  and hidden layers :  1\n",
            "Model: \"sequential_21\"\n",
            "_________________________________________________________________\n",
            "Layer (type)                 Output Shape              Param #   \n",
            "=================================================================\n",
            "flatten_21 (Flatten)         (None, 784)               0         \n",
            "_________________________________________________________________\n",
            "dense_62 (Dense)             (None, 100)               78500     \n",
            "_________________________________________________________________\n",
            "dense_63 (Dense)             (None, 10)                1010      \n",
            "=================================================================\n",
            "Total params: 79,510\n",
            "Trainable params: 79,510\n",
            "Non-trainable params: 0\n",
            "_________________________________________________________________\n",
            "Epoch 1/10\n",
            "1500/1500 [==============================] - 2s 1ms/step - loss: 0.7231 - accuracy: 0.8209\n",
            "Epoch 2/10\n",
            "1500/1500 [==============================] - 2s 1ms/step - loss: 0.3590 - accuracy: 0.9001\n",
            "Epoch 3/10\n",
            "1500/1500 [==============================] - 2s 1ms/step - loss: 0.3076 - accuracy: 0.9125\n",
            "Epoch 4/10\n",
            "1500/1500 [==============================] - 2s 1ms/step - loss: 0.2782 - accuracy: 0.9211\n",
            "Epoch 5/10\n",
            "1500/1500 [==============================] - 2s 1ms/step - loss: 0.2564 - accuracy: 0.9274\n",
            "Epoch 6/10\n",
            "1500/1500 [==============================] - 2s 1ms/step - loss: 0.2386 - accuracy: 0.9328\n",
            "Epoch 7/10\n",
            "1500/1500 [==============================] - 2s 1ms/step - loss: 0.2230 - accuracy: 0.9379\n",
            "Epoch 8/10\n",
            "1500/1500 [==============================] - 2s 1ms/step - loss: 0.2096 - accuracy: 0.9413\n",
            "Epoch 9/10\n",
            "1500/1500 [==============================] - 2s 1ms/step - loss: 0.1974 - accuracy: 0.9445\n",
            "Epoch 10/10\n",
            "1500/1500 [==============================] - 2s 1ms/step - loss: 0.1867 - accuracy: 0.9476\n",
            "################################\n",
            " for hidden layers =  2  and epoch =  10  and hidden layers :  2\n",
            "Model: \"sequential_22\"\n",
            "_________________________________________________________________\n",
            "Layer (type)                 Output Shape              Param #   \n",
            "=================================================================\n",
            "flatten_22 (Flatten)         (None, 784)               0         \n",
            "_________________________________________________________________\n",
            "dense_64 (Dense)             (None, 100)               78500     \n",
            "_________________________________________________________________\n",
            "dense_65 (Dense)             (None, 100)               10100     \n",
            "_________________________________________________________________\n",
            "dense_66 (Dense)             (None, 10)                1010      \n",
            "=================================================================\n",
            "Total params: 89,610\n",
            "Trainable params: 89,610\n",
            "Non-trainable params: 0\n",
            "_________________________________________________________________\n",
            "Epoch 1/10\n",
            "1500/1500 [==============================] - 2s 2ms/step - loss: 0.7173 - accuracy: 0.8127\n",
            "Epoch 2/10\n",
            "1500/1500 [==============================] - 2s 2ms/step - loss: 0.3182 - accuracy: 0.9085\n",
            "Epoch 3/10\n",
            "1500/1500 [==============================] - 2s 1ms/step - loss: 0.2643 - accuracy: 0.9240\n",
            "Epoch 4/10\n",
            "1500/1500 [==============================] - 2s 2ms/step - loss: 0.2306 - accuracy: 0.9336\n",
            "Epoch 5/10\n",
            "1500/1500 [==============================] - 2s 1ms/step - loss: 0.2065 - accuracy: 0.9400\n",
            "Epoch 6/10\n",
            "1500/1500 [==============================] - 2s 2ms/step - loss: 0.1873 - accuracy: 0.9454\n",
            "Epoch 7/10\n",
            "1500/1500 [==============================] - 2s 2ms/step - loss: 0.1711 - accuracy: 0.9504\n",
            "Epoch 8/10\n",
            "1500/1500 [==============================] - 2s 2ms/step - loss: 0.1579 - accuracy: 0.9546\n",
            "Epoch 9/10\n",
            "1500/1500 [==============================] - 2s 2ms/step - loss: 0.1466 - accuracy: 0.9579\n",
            "Epoch 10/10\n",
            "1500/1500 [==============================] - 2s 2ms/step - loss: 0.1364 - accuracy: 0.9609\n",
            "################################\n",
            " for hidden layers =  4  and epoch =  10  and hidden layers :  4\n",
            "Model: \"sequential_23\"\n",
            "_________________________________________________________________\n",
            "Layer (type)                 Output Shape              Param #   \n",
            "=================================================================\n",
            "flatten_23 (Flatten)         (None, 784)               0         \n",
            "_________________________________________________________________\n",
            "dense_67 (Dense)             (None, 100)               78500     \n",
            "_________________________________________________________________\n",
            "dense_68 (Dense)             (None, 100)               10100     \n",
            "_________________________________________________________________\n",
            "dense_69 (Dense)             (None, 100)               10100     \n",
            "_________________________________________________________________\n",
            "dense_70 (Dense)             (None, 100)               10100     \n",
            "_________________________________________________________________\n",
            "dense_71 (Dense)             (None, 10)                1010      \n",
            "=================================================================\n",
            "Total params: 109,810\n",
            "Trainable params: 109,810\n",
            "Non-trainable params: 0\n",
            "_________________________________________________________________\n",
            "Epoch 1/10\n",
            "1500/1500 [==============================] - 3s 2ms/step - loss: 0.8477 - accuracy: 0.7552\n",
            "Epoch 2/10\n",
            "1500/1500 [==============================] - 3s 2ms/step - loss: 0.2988 - accuracy: 0.9124\n",
            "Epoch 3/10\n",
            "1500/1500 [==============================] - 3s 2ms/step - loss: 0.2336 - accuracy: 0.9318\n",
            "Epoch 4/10\n",
            "1500/1500 [==============================] - 3s 2ms/step - loss: 0.1939 - accuracy: 0.9426\n",
            "Epoch 5/10\n",
            "1500/1500 [==============================] - 3s 2ms/step - loss: 0.1660 - accuracy: 0.9513\n",
            "Epoch 6/10\n",
            "1500/1500 [==============================] - 3s 2ms/step - loss: 0.1453 - accuracy: 0.9577\n",
            "Epoch 7/10\n",
            "1500/1500 [==============================] - 3s 2ms/step - loss: 0.1293 - accuracy: 0.9614\n",
            "Epoch 8/10\n",
            "1500/1500 [==============================] - 3s 2ms/step - loss: 0.1162 - accuracy: 0.9658\n",
            "Epoch 9/10\n",
            "1500/1500 [==============================] - 3s 2ms/step - loss: 0.1051 - accuracy: 0.9690\n",
            "Epoch 10/10\n",
            "1500/1500 [==============================] - 3s 2ms/step - loss: 0.0955 - accuracy: 0.9718\n",
            "################################\n",
            " for hidden layers =  8  and epoch =  10  and hidden layers :  8\n",
            "Model: \"sequential_24\"\n",
            "_________________________________________________________________\n",
            "Layer (type)                 Output Shape              Param #   \n",
            "=================================================================\n",
            "flatten_24 (Flatten)         (None, 784)               0         \n",
            "_________________________________________________________________\n",
            "dense_72 (Dense)             (None, 100)               78500     \n",
            "_________________________________________________________________\n",
            "dense_73 (Dense)             (None, 100)               10100     \n",
            "_________________________________________________________________\n",
            "dense_74 (Dense)             (None, 100)               10100     \n",
            "_________________________________________________________________\n",
            "dense_75 (Dense)             (None, 100)               10100     \n",
            "_________________________________________________________________\n",
            "dense_76 (Dense)             (None, 100)               10100     \n",
            "_________________________________________________________________\n",
            "dense_77 (Dense)             (None, 100)               10100     \n",
            "_________________________________________________________________\n",
            "dense_78 (Dense)             (None, 100)               10100     \n",
            "_________________________________________________________________\n",
            "dense_79 (Dense)             (None, 100)               10100     \n",
            "_________________________________________________________________\n",
            "dense_80 (Dense)             (None, 10)                1010      \n",
            "=================================================================\n",
            "Total params: 150,210\n",
            "Trainable params: 150,210\n",
            "Non-trainable params: 0\n",
            "_________________________________________________________________\n",
            "Epoch 1/10\n",
            "1500/1500 [==============================] - 3s 2ms/step - loss: 1.3414 - accuracy: 0.5997\n",
            "Epoch 2/10\n",
            "1500/1500 [==============================] - 3s 2ms/step - loss: 0.3065 - accuracy: 0.9082\n",
            "Epoch 3/10\n",
            "1500/1500 [==============================] - 3s 2ms/step - loss: 0.2027 - accuracy: 0.9396\n",
            "Epoch 4/10\n",
            "1500/1500 [==============================] - 3s 2ms/step - loss: 0.1563 - accuracy: 0.9535\n",
            "Epoch 5/10\n",
            "1500/1500 [==============================] - 3s 2ms/step - loss: 0.1285 - accuracy: 0.9618\n",
            "Epoch 6/10\n",
            "1500/1500 [==============================] - 3s 2ms/step - loss: 0.1104 - accuracy: 0.9670\n",
            "Epoch 7/10\n",
            "1500/1500 [==============================] - 3s 2ms/step - loss: 0.0955 - accuracy: 0.9713\n",
            "Epoch 8/10\n",
            "1500/1500 [==============================] - 3s 2ms/step - loss: 0.0840 - accuracy: 0.9748\n",
            "Epoch 9/10\n",
            "1500/1500 [==============================] - 3s 2ms/step - loss: 0.0746 - accuracy: 0.9773\n",
            "Epoch 10/10\n",
            "1500/1500 [==============================] - 3s 2ms/step - loss: 0.0658 - accuracy: 0.9791\n"
          ],
          "name": "stdout"
        }
      ]
    },
    {
      "cell_type": "code",
      "metadata": {
        "colab": {
          "base_uri": "https://localhost:8080/",
          "height": 364
        },
        "id": "mf3wJfMTgRg1",
        "outputId": "1cda730d-5139-44bb-8fd2-918bdcd1c940"
      },
      "source": [
        "# No. of hidden layer wise accuracies\n",
        "#Printing max accuracies of all \n",
        "for key in hidden_layers_accuracy.keys() :\n",
        "  print(\"Max accuracy for \", key ,\" : \", hidden_layers_accuracy[key])\n",
        "\n",
        "plt.plot(list(hidden_layers_accuracy.keys()), list(hidden_layers_accuracy.values()))\n",
        "plt.ylabel('Accuracy Score')\n",
        "plt.xlabel('No. of hidden layers')\n",
        "plt.title('Performance on the validation set(wrt Learning Rate)')\n",
        "plt.show()"
      ],
      "execution_count": 26,
      "outputs": [
        {
          "output_type": "stream",
          "text": [
            "Max accuracy for  1  :  0.9475833177566528\n",
            "Max accuracy for  2  :  0.9608833193778992\n",
            "Max accuracy for  4  :  0.9718166589736938\n",
            "Max accuracy for  8  :  0.9790833592414856\n"
          ],
          "name": "stdout"
        },
        {
          "output_type": "display_data",
          "data": {
            "image/png": "[encoded data removed]",
            "text/plain": [
              "<Figure size 432x288 with 1 Axes>"
            ]
          },
          "metadata": {
            "tags": [],
            "needs_background": "light"
          }
        }
      ]
    },
    {
      "cell_type": "markdown",
      "metadata": {
        "id": "5IpDIEaQT2IQ"
      },
      "source": [
        "# Generate confusion Matrix out of best features"
      ]
    },
    {
      "cell_type": "code",
      "metadata": {
        "colab": {
          "base_uri": "https://localhost:8080/"
        },
        "id": "FJXWd-knUJZb",
        "outputId": "2344bd40-6bfa-4620-8f69-a388a1410354"
      },
      "source": [
        "print(\"For hyperparameters : batch size : 4, learning_rate = 0.2, no. of epochs : 10, hidden layers = 8\")\n",
        "ann=Sequential()\n",
        "ann.add(Flatten(input_shape=(28,28)))\n",
        "ann.add(Dense(100,activation='relu'))\n",
        "ann.add(Dense(100,activation='relu'))\n",
        "ann.add(Dense(10,activation='softmax'))\n",
        "\n",
        "# Compile model\n",
        "sgd = SGD(lr=0.2)\n",
        "ann.compile(loss='categorical_crossentropy', optimizer=sgd, metrics=['accuracy'])\n",
        "ann.fit(X_Train, Y_Train, batch_size = 40, epochs = 10)"
      ],
      "execution_count": 8,
      "outputs": [
        {
          "output_type": "stream",
          "text": [
            "For hyperparameters : batch size : 4, learning_rate = 0.2, no. of epochs : 10, hidden layers = 8\n",
            "Epoch 1/10\n",
            "1500/1500 [==============================] - 2s 2ms/step - loss: 0.2522 - accuracy: 0.9236\n",
            "Epoch 2/10\n",
            "1500/1500 [==============================] - 2s 1ms/step - loss: 0.1066 - accuracy: 0.9671\n",
            "Epoch 3/10\n",
            "1500/1500 [==============================] - 2s 2ms/step - loss: 0.0775 - accuracy: 0.9758\n",
            "Epoch 4/10\n",
            "1500/1500 [==============================] - 2s 1ms/step - loss: 0.0605 - accuracy: 0.9808\n",
            "Epoch 5/10\n",
            "1500/1500 [==============================] - 2s 2ms/step - loss: 0.0492 - accuracy: 0.9842\n",
            "Epoch 6/10\n",
            "1500/1500 [==============================] - 2s 1ms/step - loss: 0.0403 - accuracy: 0.9864\n",
            "Epoch 7/10\n",
            "1500/1500 [==============================] - 2s 2ms/step - loss: 0.0310 - accuracy: 0.9904\n",
            "Epoch 8/10\n",
            "1500/1500 [==============================] - 2s 2ms/step - loss: 0.0265 - accuracy: 0.9911\n",
            "Epoch 9/10\n",
            "1500/1500 [==============================] - 2s 2ms/step - loss: 0.0226 - accuracy: 0.9929\n",
            "Epoch 10/10\n",
            "1500/1500 [==============================] - 2s 1ms/step - loss: 0.0197 - accuracy: 0.9936\n"
          ],
          "name": "stdout"
        },
        {
          "output_type": "execute_result",
          "data": {
            "text/plain": [
              "<tensorflow.python.keras.callbacks.History at 0x7fb73bc36fd0>"
            ]
          },
          "metadata": {
            "tags": []
          },
          "execution_count": 8
        }
      ]
    },
    {
      "cell_type": "markdown",
      "metadata": {
        "id": "CV2kRWffVBHi"
      },
      "source": [
        "# Testing Test data"
      ]
    },
    {
      "cell_type": "code",
      "metadata": {
        "colab": {
          "base_uri": "https://localhost:8080/"
        },
        "id": "NYNLcAiqVDLq",
        "outputId": "012d5f20-799f-467d-e9db-a362d3fb6349"
      },
      "source": [
        "# from sklearn.metrics import confusion_matrix, accuracy_score\n",
        "# cm = confusion_matrix(new_test_target, new_test_data)\n",
        "# print(cm)\n",
        "# accuracy_score(new_test_target, new_test_data)\n",
        "import numpy as np\n",
        "Y_Pred = ann.predict(X_Test)\n",
        "print(Y_Test.shape)\n",
        "print(Y_Pred.shape)"
      ],
      "execution_count": 9,
      "outputs": [
        {
          "output_type": "stream",
          "text": [
            "(10000, 10)\n",
            "(10000, 10)\n"
          ],
          "name": "stdout"
        }
      ]
    },
    {
      "cell_type": "markdown",
      "metadata": {
        "id": "CRzD-7daVN5J"
      },
      "source": [
        "# Create Confusion Matrix"
      ]
    },
    {
      "cell_type": "code",
      "metadata": {
        "id": "8xrVaZfkVpyz"
      },
      "source": [
        "from sklearn.metrics import confusion_matrix, accuracy_score\n",
        "Y_Pred = [np.argmax(i) for i in Y_Pred]\n",
        "Y_Test = [np.argmax(i) for i in Y_Test]"
      ],
      "execution_count": 10,
      "outputs": []
    },
    {
      "cell_type": "code",
      "metadata": {
        "colab": {
          "base_uri": "https://localhost:8080/",
          "height": 300
        },
        "id": "SbRKbe6b0J2V",
        "outputId": "2406eaa5-1ba4-4ee0-ddf9-95fabe7fd432"
      },
      "source": [
        "cm = confusion_matrix(Y_Test, Y_Pred)\n",
        "print(\"Accuracy in Test Data : \", accuracy_score(Y_Test, Y_Pred))\n",
        "\n",
        "import seaborn as sns\n",
        "sns.heatmap(cm,  annot=True, fmt=\"d\")"
      ],
      "execution_count": 13,
      "outputs": [
        {
          "output_type": "stream",
          "text": [
            "Accuracy in Test Data :  0.9785\n"
          ],
          "name": "stdout"
        },
        {
          "output_type": "execute_result",
          "data": {
            "text/plain": [
              "<matplotlib.axes._subplots.AxesSubplot at 0x7fb73bce6780>"
            ]
          },
          "metadata": {
            "tags": []
          },
          "execution_count": 13
        },
        {
          "output_type": "display_data",
          "data": {
            "image/png": "[encoded data removed]",
            "text/plain": [
              "<Figure size 432x288 with 2 Axes>"
            ]
          },
          "metadata": {
            "tags": [],
            "needs_background": "light"
          }
        }
      ]
    },
    {
      "cell_type": "markdown",
      "metadata": {
        "id": "afcXCPmU0IPx"
      },
      "source": [
        ""
      ]
    }
  ]
}