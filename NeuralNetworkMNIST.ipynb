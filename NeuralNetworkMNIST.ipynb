{
  "nbformat": 4,
  "nbformat_minor": 0,
  "metadata": {
    "colab": {
      "name": "NeuralNetworkMNIST.ipynb",
      "provenance": [],
      "authorship_tag": "ABX9TyNmb081CwUcSaSMkwloqIaP",
      "include_colab_link": true
    },
    "kernelspec": {
      "name": "python3",
      "display_name": "Python 3"
    }
  },
  "cells": [
    {
      "cell_type": "markdown",
      "metadata": {
        "id": "view-in-github",
        "colab_type": "text"
      },
      "source": [
        "<a href=\"https://colab.research.google.com/github/weasel-codes/google-colab/blob/udemy-dl/NeuralNetworkMNIST.ipynb\" target=\"_parent\"><img src=\"https://colab.research.google.com/assets/colab-badge.svg\" alt=\"Open In Colab\"/></a>"
      ]
    },
    {
      "cell_type": "markdown",
      "metadata": {
        "id": "qthO4mIPMnAc"
      },
      "source": [
        "# Load Inbuilt Dataset from Keras"
      ]
    },
    {
      "cell_type": "code",
      "metadata": {
        "id": "8dh16gp_JDZB"
      },
      "source": [
        "from keras.datasets import mnist\n",
        "(X_Train,Y_Train),(X_Test,Y_Test)=mnist.load_data()"
      ],
      "execution_count": 2,
      "outputs": []
    },
    {
      "cell_type": "markdown",
      "metadata": {
        "id": "Bt0u5EyrMmoX"
      },
      "source": [
        "# Print size of Train and Test Dataset"
      ]
    },
    {
      "cell_type": "code",
      "metadata": {
        "colab": {
          "base_uri": "https://localhost:8080/"
        },
        "id": "yhqgABBjMgdU",
        "outputId": "0b24f929-fac5-480c-d1ca-9e38ab2a9f09"
      },
      "source": [
        "print(\"Train Data : \\t\", X_Train.shape)\n",
        "print(\"Test Data : \\t\", Y_Train.shape)\n",
        "print(\"Train Output : \\t\", X_Test.shape)\n",
        "print(\"Test Output : \\t\", Y_Test.shape)"
      ],
      "execution_count": 3,
      "outputs": [
        {
          "output_type": "stream",
          "text": [
            "Train Data : \t (60000, 28, 28)\n",
            "Test Data : \t (60000,)\n",
            "Train Output : \t (10000, 28, 28)\n",
            "Test Output : \t (10000,)\n"
          ],
          "name": "stdout"
        }
      ]
    },
    {
      "cell_type": "markdown",
      "metadata": {
        "id": "OVxOJSRJNVc6"
      },
      "source": [
        "# Visualize Data"
      ]
    },
    {
      "cell_type": "code",
      "metadata": {
        "colab": {
          "base_uri": "https://localhost:8080/",
          "height": 282
        },
        "id": "Np3roMaFNXm5",
        "outputId": "a7f7e503-6f55-4b75-e08c-7f106bb80235"
      },
      "source": [
        "from matplotlib import pyplot as plt\n",
        "print(\"Output Value : \", Y_Train[0])\n",
        "plt.imshow(X_Train[0],cmap='gray')\n",
        "plt.show()\n"
      ],
      "execution_count": 4,
      "outputs": [
        {
          "output_type": "stream",
          "text": [
            "Output Value :  5\n"
          ],
          "name": "stdout"
        },
        {
          "output_type": "display_data",
          "data": {
            "image/png": "[encoded data removed]",
            "text/plain": [
              "<Figure size 432x288 with 1 Axes>"
            ]
          },
          "metadata": {
            "tags": [],
            "needs_background": "light"
          }
        }
      ]
    },
    {
      "cell_type": "markdown",
      "metadata": {
        "id": "ux07kTK5RXFV"
      },
      "source": [
        "# Creating categorical training Output"
      ]
    },
    {
      "cell_type": "code",
      "metadata": {
        "id": "BfzXcQl8RdhB"
      },
      "source": [
        "from keras.utils import np_utils\n",
        "Y_Train=np_utils.to_categorical(Y_Train)\n",
        "Y_Test=np_utils.to_categorical(Y_Test)"
      ],
      "execution_count": 5,
      "outputs": []
    },
    {
      "cell_type": "markdown",
      "metadata": {
        "id": "KZwN1rUBRiI2"
      },
      "source": [
        "# Normalizaing Gray scale value"
      ]
    },
    {
      "cell_type": "code",
      "metadata": {
        "colab": {
          "base_uri": "https://localhost:8080/"
        },
        "id": "u2LnQqmORwdG",
        "outputId": "72937683-41e6-41b9-b998-32f25870b0da"
      },
      "source": [
        "X_Train=X_Train/255\n",
        "X_Test=X_Test/255\n",
        "print(X_Train[5,15:20,15:20])"
      ],
      "execution_count": 6,
      "outputs": [
        {
          "output_type": "stream",
          "text": [
            "[[0.94901961 0.98823529 0.98823529 0.90588235 0.45882353]\n",
            " [0.81568627 0.98823529 0.98823529 0.98823529 0.98823529]\n",
            " [0.99215686 0.96862745 0.50588235 0.67843137 0.98823529]\n",
            " [0.84705882 0.25490196 0.         0.05490196 0.28235294]\n",
            " [0.11372549 0.         0.         0.         0.        ]]\n"
          ],
          "name": "stdout"
        }
      ]
    },
    {
      "cell_type": "markdown",
      "metadata": {
        "id": "0Nvr-dzXPTRV"
      },
      "source": [
        "# Creating *ANN*\n",
        "## Experiments with batch size"
      ]
    },
    {
      "cell_type": "code",
      "metadata": {
        "colab": {
          "base_uri": "https://localhost:8080/"
        },
        "id": "E4n-7gbCPVqn",
        "outputId": "b2a29430-e210-4ca6-e8e1-5280e29344ff"
      },
      "source": [
        "from keras.models import Sequential\n",
        "from keras.layers import Dense,Flatten\n",
        "from keras.optimizers import SGD\n",
        "# Training the ANN on the Training set\n",
        "batches = [1, 2, 4, 6, 16, 32, 64]\n",
        "epochs = [20, 40, 50]\n",
        "learning_rate = [0.01, 0.05, 0.1, 0.2, 0.4, 0.8]\n",
        "\n",
        "batch_accuracy = {}\n",
        "\n",
        "for batch in batches :\n",
        "  # for batch in batches :\n",
        "  ann=Sequential()\n",
        "  ann.add(Flatten(input_shape=(28,28)))\n",
        "  ann.add(Dense(100,activation='relu'))\n",
        "  ann.add(Dense(100,activation='relu'))\n",
        "  ann.add(Dense(10,activation='softmax'))\n",
        "\n",
        "  # Compile model\n",
        "  sgd = SGD(lr=0.01)\n",
        "  ann.compile(loss='categorical_crossentropy', optimizer=sgd, metrics=['accuracy'])\n",
        "\n",
        "  print(\"################################\\n for Batch size = \", batch, \" and epoch = \", 10)\n",
        "  ann.fit(X_Train, Y_Train, batch_size = batch, epochs = 10)\n",
        "  batch_accuracy[batch]=max(ann.history.history['accuracy'])\n"
      ],
      "execution_count": 7,
      "outputs": [
        {
          "output_type": "stream",
          "text": [
            "################################3\n",
            " for Batch size =  1  and epoch =  10\n",
            "Epoch 1/10\n",
            "60000/60000 [==============================] - 55s 914us/step - loss: 0.2252 - accuracy: 0.9301\n",
            "Epoch 2/10\n",
            "60000/60000 [==============================] - 54s 892us/step - loss: 0.1052 - accuracy: 0.9682\n",
            "Epoch 3/10\n",
            "60000/60000 [==============================] - 56s 927us/step - loss: 0.0772 - accuracy: 0.9756\n",
            "Epoch 4/10\n",
            "60000/60000 [==============================] - 56s 926us/step - loss: 0.0623 - accuracy: 0.9800\n",
            "Epoch 5/10\n",
            "60000/60000 [==============================] - 55s 919us/step - loss: 0.0491 - accuracy: 0.9847\n",
            "Epoch 6/10\n",
            "60000/60000 [==============================] - 54s 906us/step - loss: 0.0437 - accuracy: 0.9859\n",
            "Epoch 7/10\n",
            "60000/60000 [==============================] - 55s 920us/step - loss: 0.0372 - accuracy: 0.9883\n",
            "Epoch 8/10\n",
            "60000/60000 [==============================] - 56s 928us/step - loss: 0.0329 - accuracy: 0.9893\n",
            "Epoch 9/10\n",
            "60000/60000 [==============================] - 55s 921us/step - loss: 0.0271 - accuracy: 0.9911\n",
            "Epoch 10/10\n",
            "60000/60000 [==============================] - 55s 916us/step - loss: 0.0271 - accuracy: 0.9907\n",
            "################################3\n",
            " for Batch size =  2  and epoch =  10\n",
            "Epoch 1/10\n",
            "30000/30000 [==============================] - 29s 977us/step - loss: 0.2414 - accuracy: 0.9271\n",
            "Epoch 2/10\n",
            "30000/30000 [==============================] - 29s 965us/step - loss: 0.1086 - accuracy: 0.9671\n",
            "Epoch 3/10\n",
            "30000/30000 [==============================] - 29s 969us/step - loss: 0.0791 - accuracy: 0.9749\n",
            "Epoch 4/10\n",
            "30000/30000 [==============================] - 29s 964us/step - loss: 0.0602 - accuracy: 0.9809\n",
            "Epoch 5/10\n",
            "30000/30000 [==============================] - 28s 948us/step - loss: 0.0482 - accuracy: 0.9844\n",
            "Epoch 6/10\n",
            "30000/30000 [==============================] - 29s 958us/step - loss: 0.0398 - accuracy: 0.9869\n",
            "Epoch 7/10\n",
            "30000/30000 [==============================] - 29s 968us/step - loss: 0.0318 - accuracy: 0.9895\n",
            "Epoch 8/10\n",
            "30000/30000 [==============================] - 30s 990us/step - loss: 0.0257 - accuracy: 0.9914\n",
            "Epoch 9/10\n",
            "30000/30000 [==============================] - 29s 980us/step - loss: 0.0242 - accuracy: 0.9919\n",
            "Epoch 10/10\n",
            "30000/30000 [==============================] - 29s 982us/step - loss: 0.0178 - accuracy: 0.9941\n",
            "################################3\n",
            " for Batch size =  4  and epoch =  10\n",
            "Epoch 1/10\n",
            "15000/15000 [==============================] - 15s 1ms/step - loss: 0.2977 - accuracy: 0.9138\n",
            "Epoch 2/10\n",
            "15000/15000 [==============================] - 15s 1ms/step - loss: 0.1316 - accuracy: 0.9603\n",
            "Epoch 3/10\n",
            "15000/15000 [==============================] - 15s 1ms/step - loss: 0.0919 - accuracy: 0.9720\n",
            "Epoch 4/10\n",
            "15000/15000 [==============================] - 15s 1ms/step - loss: 0.0722 - accuracy: 0.9777\n",
            "Epoch 5/10\n",
            "15000/15000 [==============================] - 15s 1ms/step - loss: 0.0580 - accuracy: 0.9815\n",
            "Epoch 6/10\n",
            "15000/15000 [==============================] - 15s 1ms/step - loss: 0.0491 - accuracy: 0.9846\n",
            "Epoch 7/10\n",
            "15000/15000 [==============================] - 16s 1ms/step - loss: 0.0396 - accuracy: 0.9875\n",
            "Epoch 8/10\n",
            "15000/15000 [==============================] - 15s 1ms/step - loss: 0.0326 - accuracy: 0.9896\n",
            "Epoch 9/10\n",
            "15000/15000 [==============================] - 15s 994us/step - loss: 0.0270 - accuracy: 0.9919\n",
            "Epoch 10/10\n",
            "15000/15000 [==============================] - 15s 1ms/step - loss: 0.0228 - accuracy: 0.9934\n",
            "################################3\n",
            " for Batch size =  6  and epoch =  10\n",
            "Epoch 1/10\n",
            "10000/10000 [==============================] - 10s 1ms/step - loss: 0.3399 - accuracy: 0.9015\n",
            "Epoch 2/10\n",
            "10000/10000 [==============================] - 10s 1ms/step - loss: 0.1575 - accuracy: 0.9528\n",
            "Epoch 3/10\n",
            "10000/10000 [==============================] - 10s 1ms/step - loss: 0.1129 - accuracy: 0.9664\n",
            "Epoch 4/10\n",
            "10000/10000 [==============================] - 10s 1ms/step - loss: 0.0889 - accuracy: 0.9738\n",
            "Epoch 5/10\n",
            "10000/10000 [==============================] - 10s 1ms/step - loss: 0.0729 - accuracy: 0.9781\n",
            "Epoch 6/10\n",
            "10000/10000 [==============================] - 10s 1ms/step - loss: 0.0610 - accuracy: 0.9817\n",
            "Epoch 7/10\n",
            "10000/10000 [==============================] - 11s 1ms/step - loss: 0.0528 - accuracy: 0.9835\n",
            "Epoch 8/10\n",
            "10000/10000 [==============================] - 11s 1ms/step - loss: 0.0444 - accuracy: 0.9868\n",
            "Epoch 9/10\n",
            "10000/10000 [==============================] - 10s 1ms/step - loss: 0.0393 - accuracy: 0.9879\n",
            "Epoch 10/10\n",
            "10000/10000 [==============================] - 10s 1ms/step - loss: 0.0336 - accuracy: 0.9901\n",
            "################################3\n",
            " for Batch size =  16  and epoch =  10\n",
            "Epoch 1/10\n",
            "3750/3750 [==============================] - 4s 1ms/step - loss: 0.4767 - accuracy: 0.8678\n",
            "Epoch 2/10\n",
            "3750/3750 [==============================] - 4s 1ms/step - loss: 0.2354 - accuracy: 0.9320\n",
            "Epoch 3/10\n",
            "3750/3750 [==============================] - 4s 1ms/step - loss: 0.1809 - accuracy: 0.9482\n",
            "Epoch 4/10\n",
            "3750/3750 [==============================] - 5s 1ms/step - loss: 0.1476 - accuracy: 0.9574\n",
            "Epoch 5/10\n",
            "3750/3750 [==============================] - 5s 1ms/step - loss: 0.1250 - accuracy: 0.9643\n",
            "Epoch 6/10\n",
            "3750/3750 [==============================] - 4s 1ms/step - loss: 0.1087 - accuracy: 0.9687\n",
            "Epoch 7/10\n",
            "3750/3750 [==============================] - 4s 1ms/step - loss: 0.0952 - accuracy: 0.9723\n",
            "Epoch 8/10\n",
            "3750/3750 [==============================] - 4s 1ms/step - loss: 0.0843 - accuracy: 0.9758\n",
            "Epoch 9/10\n",
            "3750/3750 [==============================] - 4s 1ms/step - loss: 0.0758 - accuracy: 0.9781\n",
            "Epoch 10/10\n",
            "3750/3750 [==============================] - 4s 1ms/step - loss: 0.0684 - accuracy: 0.9801\n",
            "################################3\n",
            " for Batch size =  32  and epoch =  10\n",
            "Epoch 1/10\n",
            "1875/1875 [==============================] - 3s 1ms/step - loss: 0.6438 - accuracy: 0.8288\n",
            "Epoch 2/10\n",
            "1875/1875 [==============================] - 3s 1ms/step - loss: 0.3012 - accuracy: 0.9130\n",
            "Epoch 3/10\n",
            "1875/1875 [==============================] - 3s 1ms/step - loss: 0.2519 - accuracy: 0.9266\n",
            "Epoch 4/10\n",
            "1875/1875 [==============================] - 3s 1ms/step - loss: 0.2192 - accuracy: 0.9366\n",
            "Epoch 5/10\n",
            "1875/1875 [==============================] - 3s 1ms/step - loss: 0.1948 - accuracy: 0.9431\n",
            "Epoch 6/10\n",
            "1875/1875 [==============================] - 3s 1ms/step - loss: 0.1749 - accuracy: 0.9493\n",
            "Epoch 7/10\n",
            "1875/1875 [==============================] - 3s 1ms/step - loss: 0.1595 - accuracy: 0.9536\n",
            "Epoch 8/10\n",
            "1875/1875 [==============================] - 3s 1ms/step - loss: 0.1456 - accuracy: 0.9578\n",
            "Epoch 9/10\n",
            "1875/1875 [==============================] - 3s 1ms/step - loss: 0.1341 - accuracy: 0.9613\n",
            "Epoch 10/10\n",
            "1875/1875 [==============================] - 3s 1ms/step - loss: 0.1244 - accuracy: 0.9645\n",
            "################################3\n",
            " for Batch size =  64  and epoch =  10\n",
            "Epoch 1/10\n",
            "938/938 [==============================] - 2s 2ms/step - loss: 0.9243 - accuracy: 0.7635\n",
            "Epoch 2/10\n",
            "938/938 [==============================] - 2s 2ms/step - loss: 0.3748 - accuracy: 0.8951\n",
            "Epoch 3/10\n",
            "938/938 [==============================] - 2s 2ms/step - loss: 0.3108 - accuracy: 0.9123\n",
            "Epoch 4/10\n",
            "938/938 [==============================] - 2s 2ms/step - loss: 0.2759 - accuracy: 0.9213\n",
            "Epoch 5/10\n",
            "938/938 [==============================] - 2s 2ms/step - loss: 0.2508 - accuracy: 0.9284\n",
            "Epoch 6/10\n",
            "938/938 [==============================] - 2s 2ms/step - loss: 0.2310 - accuracy: 0.9342\n",
            "Epoch 7/10\n",
            "938/938 [==============================] - 2s 2ms/step - loss: 0.2150 - accuracy: 0.9391\n",
            "Epoch 8/10\n",
            "938/938 [==============================] - 2s 2ms/step - loss: 0.2011 - accuracy: 0.9432\n",
            "Epoch 9/10\n",
            "938/938 [==============================] - 2s 2ms/step - loss: 0.1897 - accuracy: 0.9460\n",
            "Epoch 10/10\n",
            "938/938 [==============================] - 2s 2ms/step - loss: 0.1792 - accuracy: 0.9488\n"
          ],
          "name": "stdout"
        }
      ]
    },
    {
      "cell_type": "markdown",
      "metadata": {
        "id": "fsVFcnkZaa4S"
      },
      "source": [
        ""
      ]
    },
    {
      "cell_type": "markdown",
      "metadata": {
        "id": "HpE3-l_2Spqo"
      },
      "source": [
        "## Experiment with learning rate"
      ]
    },
    {
      "cell_type": "code",
      "metadata": {
        "colab": {
          "base_uri": "https://localhost:8080/"
        },
        "id": "roRp9E-KUZ8z",
        "outputId": "9d706348-7a0f-4efe-87b8-7ee36488801c"
      },
      "source": [
        "learning_rate_accuracy = {}\n",
        "\n",
        "for rate in learning_rate :\n",
        "  # for batch in batches :\n",
        "  ann=Sequential()\n",
        "  ann.add(Flatten(input_shape=(28,28)))\n",
        "  ann.add(Dense(100,activation='relu'))\n",
        "  ann.add(Dense(100,activation='relu'))\n",
        "  ann.add(Dense(10,activation='softmax'))\n",
        "\n",
        "  # Compile model\n",
        "  sgd = SGD(lr=rate)\n",
        "  ann.compile(loss='categorical_crossentropy', optimizer=sgd, metrics=['accuracy'])\n",
        "\n",
        "  print(\"################################3\\n for Batch size = \", 40, \" and epoch = \", 10)\n",
        "  ann.fit(X_Train, Y_Train, batch_size = 40, epochs = 10)\n",
        "  learning_rate_accuracy[rate]=max(ann.history.history['accuracy'])"
      ],
      "execution_count": 8,
      "outputs": [
        {
          "output_type": "stream",
          "text": [
            "################################3\n",
            " for Batch size =  40  and epoch =  10\n",
            "Epoch 1/10\n",
            "1500/1500 [==============================] - 2s 2ms/step - loss: 0.7237 - accuracy: 0.8145\n",
            "Epoch 2/10\n",
            "1500/1500 [==============================] - 2s 2ms/step - loss: 0.3267 - accuracy: 0.9072\n",
            "Epoch 3/10\n",
            "1500/1500 [==============================] - 3s 2ms/step - loss: 0.2770 - accuracy: 0.9213\n",
            "Epoch 4/10\n",
            "1500/1500 [==============================] - 2s 2ms/step - loss: 0.2442 - accuracy: 0.9303\n",
            "Epoch 5/10\n",
            "1500/1500 [==============================] - 2s 1ms/step - loss: 0.2191 - accuracy: 0.9371\n",
            "Epoch 6/10\n",
            "1500/1500 [==============================] - 2s 1ms/step - loss: 0.1981 - accuracy: 0.9434\n",
            "Epoch 7/10\n",
            "1500/1500 [==============================] - 2s 1ms/step - loss: 0.1806 - accuracy: 0.9485\n",
            "Epoch 8/10\n",
            "1500/1500 [==============================] - 2s 1ms/step - loss: 0.1662 - accuracy: 0.9528\n",
            "Epoch 9/10\n",
            "1500/1500 [==============================] - 2s 1ms/step - loss: 0.1536 - accuracy: 0.9564\n",
            "Epoch 10/10\n",
            "1500/1500 [==============================] - 2s 1ms/step - loss: 0.1433 - accuracy: 0.9595\n",
            "################################3\n",
            " for Batch size =  40  and epoch =  10\n",
            "Epoch 1/10\n",
            "1500/1500 [==============================] - 2s 2ms/step - loss: 0.3728 - accuracy: 0.8944\n",
            "Epoch 2/10\n",
            "1500/1500 [==============================] - 2s 1ms/step - loss: 0.1733 - accuracy: 0.9495\n",
            "Epoch 3/10\n",
            "1500/1500 [==============================] - 2s 1ms/step - loss: 0.1261 - accuracy: 0.9632\n",
            "Epoch 4/10\n",
            "1500/1500 [==============================] - 2s 2ms/step - loss: 0.0997 - accuracy: 0.9701\n",
            "Epoch 5/10\n",
            "1500/1500 [==============================] - 2s 1ms/step - loss: 0.0822 - accuracy: 0.9754\n",
            "Epoch 6/10\n",
            "1500/1500 [==============================] - 2s 1ms/step - loss: 0.0686 - accuracy: 0.9793\n",
            "Epoch 7/10\n",
            "1500/1500 [==============================] - 2s 1ms/step - loss: 0.0588 - accuracy: 0.9823\n",
            "Epoch 8/10\n",
            "1500/1500 [==============================] - 2s 1ms/step - loss: 0.0511 - accuracy: 0.9840\n",
            "Epoch 9/10\n",
            "1500/1500 [==============================] - 2s 2ms/step - loss: 0.0442 - accuracy: 0.9863\n",
            "Epoch 10/10\n",
            "1500/1500 [==============================] - 2s 1ms/step - loss: 0.0391 - accuracy: 0.9880\n",
            "################################3\n",
            " for Batch size =  40  and epoch =  10\n",
            "Epoch 1/10\n",
            "1500/1500 [==============================] - 2s 2ms/step - loss: 0.3060 - accuracy: 0.9089\n",
            "Epoch 2/10\n",
            "1500/1500 [==============================] - 2s 1ms/step - loss: 0.1292 - accuracy: 0.9611\n",
            "Epoch 3/10\n",
            "1500/1500 [==============================] - 2s 1ms/step - loss: 0.0932 - accuracy: 0.9719\n",
            "Epoch 4/10\n",
            "1500/1500 [==============================] - 2s 1ms/step - loss: 0.0716 - accuracy: 0.9788\n",
            "Epoch 5/10\n",
            "1500/1500 [==============================] - 2s 2ms/step - loss: 0.0570 - accuracy: 0.9828\n",
            "Epoch 6/10\n",
            "1500/1500 [==============================] - 2s 1ms/step - loss: 0.0477 - accuracy: 0.9849\n",
            "Epoch 7/10\n",
            "1500/1500 [==============================] - 2s 1ms/step - loss: 0.0393 - accuracy: 0.9879\n",
            "Epoch 8/10\n",
            "1500/1500 [==============================] - 2s 1ms/step - loss: 0.0317 - accuracy: 0.9904\n",
            "Epoch 9/10\n",
            "1500/1500 [==============================] - 2s 1ms/step - loss: 0.0271 - accuracy: 0.9916\n",
            "Epoch 10/10\n",
            "1500/1500 [==============================] - 2s 1ms/step - loss: 0.0225 - accuracy: 0.9932\n",
            "################################3\n",
            " for Batch size =  40  and epoch =  10\n",
            "Epoch 1/10\n",
            "1500/1500 [==============================] - 2s 1ms/step - loss: 0.2576 - accuracy: 0.9211\n",
            "Epoch 2/10\n",
            "1500/1500 [==============================] - 2s 1ms/step - loss: 0.1091 - accuracy: 0.9660\n",
            "Epoch 3/10\n",
            "1500/1500 [==============================] - 2s 1ms/step - loss: 0.0764 - accuracy: 0.9752\n",
            "Epoch 4/10\n",
            "1500/1500 [==============================] - 2s 1ms/step - loss: 0.0584 - accuracy: 0.9819\n",
            "Epoch 5/10\n",
            "1500/1500 [==============================] - 2s 2ms/step - loss: 0.0462 - accuracy: 0.9859\n",
            "Epoch 6/10\n",
            "1500/1500 [==============================] - 2s 1ms/step - loss: 0.0387 - accuracy: 0.9872\n",
            "Epoch 7/10\n",
            "1500/1500 [==============================] - 2s 1ms/step - loss: 0.0308 - accuracy: 0.9904\n",
            "Epoch 8/10\n",
            "1500/1500 [==============================] - 2s 1ms/step - loss: 0.0260 - accuracy: 0.9919\n",
            "Epoch 9/10\n",
            "1500/1500 [==============================] - 2s 1ms/step - loss: 0.0208 - accuracy: 0.9929\n",
            "Epoch 10/10\n",
            "1500/1500 [==============================] - 2s 1ms/step - loss: 0.0182 - accuracy: 0.9942\n",
            "################################3\n",
            " for Batch size =  40  and epoch =  10\n",
            "Epoch 1/10\n",
            "1500/1500 [==============================] - 2s 2ms/step - loss: 0.2511 - accuracy: 0.9211\n",
            "Epoch 2/10\n",
            "1500/1500 [==============================] - 2s 1ms/step - loss: 0.1103 - accuracy: 0.9663\n",
            "Epoch 3/10\n",
            "1500/1500 [==============================] - 2s 2ms/step - loss: 0.0789 - accuracy: 0.9758\n",
            "Epoch 4/10\n",
            "1500/1500 [==============================] - 2s 1ms/step - loss: 0.0649 - accuracy: 0.9795\n",
            "Epoch 5/10\n",
            "1500/1500 [==============================] - 2s 1ms/step - loss: 0.0517 - accuracy: 0.9834\n",
            "Epoch 6/10\n",
            "1500/1500 [==============================] - 2s 1ms/step - loss: 0.0461 - accuracy: 0.9857\n",
            "Epoch 7/10\n",
            "1500/1500 [==============================] - 2s 1ms/step - loss: 0.0416 - accuracy: 0.9865\n",
            "Epoch 8/10\n",
            "1500/1500 [==============================] - 2s 1ms/step - loss: 0.0353 - accuracy: 0.9888\n",
            "Epoch 9/10\n",
            "1500/1500 [==============================] - 2s 1ms/step - loss: 0.0326 - accuracy: 0.9896\n",
            "Epoch 10/10\n",
            "1500/1500 [==============================] - 2s 1ms/step - loss: 0.0300 - accuracy: 0.9905\n",
            "################################3\n",
            " for Batch size =  40  and epoch =  10\n",
            "Epoch 1/10\n",
            "1500/1500 [==============================] - 2s 2ms/step - loss: 0.4405 - accuracy: 0.8662\n",
            "Epoch 2/10\n",
            "1500/1500 [==============================] - 2s 2ms/step - loss: 0.1977 - accuracy: 0.9426\n",
            "Epoch 3/10\n",
            "1500/1500 [==============================] - 2s 2ms/step - loss: 0.1611 - accuracy: 0.9546\n",
            "Epoch 4/10\n",
            "1500/1500 [==============================] - 2s 1ms/step - loss: 0.1415 - accuracy: 0.9594\n",
            "Epoch 5/10\n",
            "1500/1500 [==============================] - 2s 1ms/step - loss: 0.1298 - accuracy: 0.9639\n",
            "Epoch 6/10\n",
            "1500/1500 [==============================] - 2s 1ms/step - loss: 0.1223 - accuracy: 0.9661\n",
            "Epoch 7/10\n",
            "1500/1500 [==============================] - 2s 2ms/step - loss: 0.1080 - accuracy: 0.9692\n",
            "Epoch 8/10\n",
            "1500/1500 [==============================] - 2s 1ms/step - loss: 0.1070 - accuracy: 0.9703\n",
            "Epoch 9/10\n",
            "1500/1500 [==============================] - 2s 2ms/step - loss: 0.0993 - accuracy: 0.9728\n",
            "Epoch 10/10\n",
            "1500/1500 [==============================] - 2s 1ms/step - loss: 0.1000 - accuracy: 0.9733\n"
          ],
          "name": "stdout"
        }
      ]
    },
    {
      "cell_type": "markdown",
      "metadata": {
        "id": "5IpDIEaQT2IQ"
      },
      "source": [
        "# Plotting epoch vs loss"
      ]
    },
    {
      "cell_type": "code",
      "metadata": {
        "colab": {
          "base_uri": "https://localhost:8080/",
          "height": 362
        },
        "id": "FJXWd-knUJZb",
        "outputId": "3251ba03-1f78-4738-f14a-e49a101f2f11"
      },
      "source": [
        "from matplotlib import pyplot as plt\n",
        "\n",
        "plt.plot(ann.history.history['loss'])\n",
        "plt.xlabel('# epochs')\n",
        "plt.ylabel('loss')\n",
        "plt.show()"
      ],
      "execution_count": 94,
      "outputs": [
        {
          "output_type": "display_data",
          "data": {
            "image/png": "[encoded data removed]",
            "text/plain": [
              "<Figure size 576x396 with 1 Axes>"
            ]
          },
          "metadata": {
            "tags": []
          }
        }
      ]
    },
    {
      "cell_type": "markdown",
      "metadata": {
        "id": "ctK8j42YUNnR"
      },
      "source": [
        "# Plotting epoch vs accuracy"
      ]
    },
    {
      "cell_type": "code",
      "metadata": {
        "colab": {
          "base_uri": "https://localhost:8080/",
          "height": 361
        },
        "id": "I4xyiF0NURFt",
        "outputId": "5f1b3fc3-5b5f-4f95-f17d-ab1b253b8ed0"
      },
      "source": [
        "plt.plot(ann.history.history['accuracy'])\n",
        "plt.xlabel('# epochs')\n",
        "plt.ylabel('accuracy')\n",
        "plt.show()"
      ],
      "execution_count": 95,
      "outputs": [
        {
          "output_type": "display_data",
          "data": {
            "image/png": "[encoded data removed]",
            "text/plain": [
              "<Figure size 576x396 with 1 Axes>"
            ]
          },
          "metadata": {
            "tags": []
          }
        }
      ]
    },
    {
      "cell_type": "markdown",
      "metadata": {
        "id": "CV2kRWffVBHi"
      },
      "source": [
        "# TEsting Test data"
      ]
    },
    {
      "cell_type": "code",
      "metadata": {
        "colab": {
          "base_uri": "https://localhost:8080/"
        },
        "id": "NYNLcAiqVDLq",
        "outputId": "ee1863ec-3864-4d43-f461-6809db237294"
      },
      "source": [
        "# from sklearn.metrics import confusion_matrix, accuracy_score\n",
        "# cm = confusion_matrix(new_test_target, new_test_data)\n",
        "# print(cm)\n",
        "# accuracy_score(new_test_target, new_test_data)\n",
        "import numpy as np\n",
        "Y_Pred = ann.predict(X_Test)\n",
        "print(Y_Test.shape)\n",
        "print(Y_Pred.shape)"
      ],
      "execution_count": 96,
      "outputs": [
        {
          "output_type": "stream",
          "text": [
            "(10000, 10)\n",
            "(10000, 10)\n"
          ],
          "name": "stdout"
        }
      ]
    },
    {
      "cell_type": "markdown",
      "metadata": {
        "id": "CRzD-7daVN5J"
      },
      "source": [
        "# Create Confusion Matrix"
      ]
    },
    {
      "cell_type": "code",
      "metadata": {
        "id": "8xrVaZfkVpyz"
      },
      "source": [
        "from sklearn.metrics import confusion_matrix, accuracy_score\n",
        "Y_Pred = [np.argmax(i) for i in Y_Pred]\n",
        "Y_Test = [np.argmax(i) for i in Y_Test]"
      ],
      "execution_count": 97,
      "outputs": []
    },
    {
      "cell_type": "code",
      "metadata": {
        "colab": {
          "base_uri": "https://localhost:8080/",
          "height": 364
        },
        "id": "SbRKbe6b0J2V",
        "outputId": "82b57a39-be97-4479-ecb8-43437ec53c42"
      },
      "source": [
        "cm = confusion_matrix(Y_Test, Y_Pred)\n",
        "accuracy_score(Y_Test, Y_Pred)\n",
        "\n",
        "import seaborn as sns\n",
        "sns.heatmap(cm,  annot=True, fmt=\"d\")"
      ],
      "execution_count": 98,
      "outputs": [
        {
          "output_type": "execute_result",
          "data": {
            "text/plain": [
              "<matplotlib.axes._subplots.AxesSubplot at 0x7ff525271748>"
            ]
          },
          "metadata": {
            "tags": []
          },
          "execution_count": 98
        },
        {
          "output_type": "display_data",
          "data": {
            "image/png": "[encoded data removed]",
            "text/plain": [
              "<Figure size 576x396 with 2 Axes>"
            ]
          },
          "metadata": {
            "tags": []
          }
        }
      ]
    },
    {
      "cell_type": "markdown",
      "metadata": {
        "id": "afcXCPmU0IPx"
      },
      "source": [
        ""
      ]
    }
  ]
}