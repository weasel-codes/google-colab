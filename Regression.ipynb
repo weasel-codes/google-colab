{
  "nbformat": 4,
  "nbformat_minor": 0,
  "metadata": {
    "colab": {
      "name": "Regression.ipynb",
      "provenance": [],
      "collapsed_sections": [],
      "authorship_tag": "ABX9TyM5Ueng4r6R7/jMiInYO51K",
      "include_colab_link": true
    },
    "kernelspec": {
      "name": "python3",
      "display_name": "Python 3"
    }
  },
  "cells": [
    {
      "cell_type": "markdown",
      "metadata": {
        "id": "view-in-github",
        "colab_type": "text"
      },
      "source": [
        "<a href=\"https://colab.research.google.com/github/weasel-codes/google-colab/blob/main/Regression.ipynb\" target=\"_parent\"><img src=\"https://colab.research.google.com/assets/colab-badge.svg\" alt=\"Open In Colab\"/></a>"
      ]
    },
    {
      "cell_type": "markdown",
      "metadata": {
        "id": "EgSQrDbmr91-"
      },
      "source": [
        "# **Goal**\n",
        "To predict whether a customer will by an SUV or not\n",
        "\n",
        "Using only Two features : to get clear 2D dimensions"
      ]
    },
    {
      "cell_type": "markdown",
      "metadata": {
        "id": "Dd6rqoHDt_hn"
      },
      "source": [
        "# **Importing Libraries**"
      ]
    },
    {
      "cell_type": "code",
      "metadata": {
        "id": "HQxES-GAxJzS"
      },
      "source": [
        "import numpy as np\n",
        "import matplotlib.pyplot as plot\n",
        "import pandas as pd"
      ],
      "execution_count": 3,
      "outputs": []
    },
    {
      "cell_type": "markdown",
      "metadata": {
        "id": "hSM9UU0NuBzJ"
      },
      "source": [
        "# **Importing Datasets**"
      ]
    },
    {
      "cell_type": "code",
      "metadata": {
        "id": "mSaX06K3xMSi"
      },
      "source": [
        "dataset = pd.read_csv('Social_Network_Ads.csv')\n",
        "X = dataset.iloc[:, :-1].values \n",
        "Y = dataset.iloc[:,-1] "
      ],
      "execution_count": 4,
      "outputs": []
    },
    {
      "cell_type": "markdown",
      "metadata": {
        "id": "dSNgiNImuEWZ"
      },
      "source": [
        "# **Splitting into Training and Test Set**"
      ]
    },
    {
      "cell_type": "code",
      "metadata": {
        "id": "7bpjteHsxkkK"
      },
      "source": [
        "from sklearn.model_selection import train_test_split\n",
        "X_train, X_test, Y_train, Y_test = train_test_split(X, Y, test_size=0.25, random_state=0) #75-25 ratio"
      ],
      "execution_count": 5,
      "outputs": []
    },
    {
      "cell_type": "markdown",
      "metadata": {
        "id": "9OyHFq-FuItR"
      },
      "source": [
        "# **Feature Scaling**"
      ]
    },
    {
      "cell_type": "code",
      "metadata": {
        "id": "oEX6K8M5HKlb"
      },
      "source": [
        "from sklearn.preprocessing import StandardScaler\n",
        "sc = StandardScaler()\n",
        "X_train = sc.fit_transform(X_train) #Not for Purchased\n",
        "X_test = sc.transform(X_test)"
      ],
      "execution_count": 6,
      "outputs": []
    },
    {
      "cell_type": "markdown",
      "metadata": {
        "id": "EoGYq3gWK-Y8"
      },
      "source": [
        "# **Training Logistic Regression Model**\n",
        "* Training is done on training set\n",
        "* Fit created the object on training set"
      ]
    },
    {
      "cell_type": "code",
      "metadata": {
        "id": "Fs54Q8yoLJYF",
        "outputId": "f61346ef-bb3a-4fb0-cf2b-fb7d9629f75b",
        "colab": {
          "base_uri": "https://localhost:8080/"
        }
      },
      "source": [
        "from sklearn.linear_model import LogisticRegression\n",
        "classifier = LogisticRegression(random_state = 0)\n",
        "classifier.fit(X_train, Y_train)"
      ],
      "execution_count": 7,
      "outputs": [
        {
          "output_type": "execute_result",
          "data": {
            "text/plain": [
              "LogisticRegression(C=1.0, class_weight=None, dual=False, fit_intercept=True,\n",
              "                   intercept_scaling=1, l1_ratio=None, max_iter=100,\n",
              "                   multi_class='auto', n_jobs=None, penalty='l2',\n",
              "                   random_state=0, solver='lbfgs', tol=0.0001, verbose=0,\n",
              "                   warm_start=False)"
            ]
          },
          "metadata": {
            "tags": []
          },
          "execution_count": 7
        }
      ]
    },
    {
      "cell_type": "markdown",
      "metadata": {
        "id": "lvWUURVIuMW_"
      },
      "source": [
        "# **Predicting Test Result**"
      ]
    },
    {
      "cell_type": "code",
      "metadata": {
        "id": "Mqt7_L-HM4Kl",
        "outputId": "2060c393-3ad9-4e42-a153-6b6f700e59de",
        "colab": {
          "base_uri": "https://localhost:8080/"
        }
      },
      "source": [
        "classifier.predict([X_test[0,:]]) # we need a 2D input"
      ],
      "execution_count": 8,
      "outputs": [
        {
          "output_type": "execute_result",
          "data": {
            "text/plain": [
              "array([0])"
            ]
          },
          "metadata": {
            "tags": []
          },
          "execution_count": 8
        }
      ]
    },
    {
      "cell_type": "markdown",
      "metadata": {
        "id": "pslfZE4mVvXU"
      },
      "source": [
        "# **Predicting Test Set Result**\n",
        "Try predicting test set result vector and actual vector of prediction next to each other"
      ]
    },
    {
      "cell_type": "code",
      "metadata": {
        "id": "vxOF9_IlV63u"
      },
      "source": [
        "Y_pred = classifier.predict(X_test)\n",
        "np.concatenate((Y_pred.reshape(len(Y_pred),1), np.array(Y_test).reshape(len(np.array(Y_test)),1)),1)"
      ],
      "execution_count": null,
      "outputs": []
    },
    {
      "cell_type": "markdown",
      "metadata": {
        "id": "YYnLerRPuZsP"
      },
      "source": [
        "# **Making Confusion Matrix**\n",
        "Confusion matrix will show us no. of exact correct and incorrect predictions.\n"
      ]
    },
    {
      "cell_type": "code",
      "metadata": {
        "id": "nTX9xOCld4Cd",
        "outputId": "00fa30bc-47fe-4f02-b047-e6535ea9d7d7",
        "colab": {
          "base_uri": "https://localhost:8080/"
        }
      },
      "source": [
        "from sklearn.metrics import confusion_matrix, accuracy_score\n",
        "Y_true = np.array(Y_test)\n",
        "cm = confusion_matrix(Y_true, Y_pred) ##correct bought, incorrect bought, corerct not bought, incorrect not bought\n",
        "\n",
        "accuracy_score(Y_true, Y_pred)"
      ],
      "execution_count": 10,
      "outputs": [
        {
          "output_type": "execute_result",
          "data": {
            "text/plain": [
              "0.89"
            ]
          },
          "metadata": {
            "tags": []
          },
          "execution_count": 10
        }
      ]
    },
    {
      "cell_type": "markdown",
      "metadata": {
        "id": "K9ln2xDYuaoo"
      },
      "source": [
        "# **Visualizing Training Set Result**\n",
        "Plot on a 2-D plot\n",
        "\n",
        "x-axis : 1st feature\n",
        "\n",
        "y-axis : 2nd feature\n",
        "\n",
        "Code for printing is not that useful... just copy it"
      ]
    },
    {
      "cell_type": "code",
      "metadata": {
        "id": "B5LkAYMyeGBx",
        "outputId": "623c9b82-1870-4cc7-ac50-2ea6cfa81be8",
        "colab": {
          "base_uri": "https://localhost:8080/",
          "height": 350
        }
      },
      "source": [
        "import matplotlib.pyplot as plt\n",
        "from matplotlib.colors import ListedColormap\n",
        "X_set, Y_set = sc.inverse_transform(X_train), Y_train\n",
        "X1, X2 = np.meshgrid(np.arange(start = X_set[:, 0].min() - 10, stop = X_set[:, 0].max() + 10, step = 0.25),\n",
        "                     np.arange(start = X_set[:, 1].min() - 1000, stop = X_set[:, 1].max() + 1000, step = 0.25))\n",
        "plt.contourf(X1, X2, classifier.predict(sc.transform(np.array([X1.ravel(), X2.ravel()]).T)).reshape(X1.shape),\n",
        "             alpha = 0.75, cmap = ListedColormap(('red', 'green')))\n",
        "plt.xlim(X1.min(), X1.max())\n",
        "plt.ylim(X2.min(), X2.max())\n",
        "for i, j in enumerate(np.unique(Y_set)):\n",
        "    plt.scatter(X_set[Y_set == j, 0], X_set[Y_set == j, 1], c = ListedColormap(('red', 'green'))(i), label = j)\n",
        "plt.title('Logistic Regression (Training set)')\n",
        "plt.xlabel('Age')\n",
        "plt.ylabel('Estimated Salary')\n",
        "plt.legend()\n",
        "plt.show()"
      ],
      "execution_count": 11,
      "outputs": [
        {
          "output_type": "stream",
          "text": [
            "*c* argument looks like a single numeric RGB or RGBA sequence, which should be avoided as value-mapping will have precedence in case its length matches with *x* & *y*.  Please use the *color* keyword-argument or provide a 2-D array with a single row if you intend to specify the same RGB or RGBA value for all points.\n",
            "*c* argument looks like a single numeric RGB or RGBA sequence, which should be avoided as value-mapping will have precedence in case its length matches with *x* & *y*.  Please use the *color* keyword-argument or provide a 2-D array with a single row if you intend to specify the same RGB or RGBA value for all points.\n"
          ],
          "name": "stderr"
        },
        {
          "output_type": "display_data",
          "data": {
            "image/png": "[encoded data removed]",
            "text/plain": [
              "<Figure size 432x288 with 1 Axes>"
            ]
          },
          "metadata": {
            "tags": [],
            "needs_background": "light"
          }
        }
      ]
    },
    {
      "cell_type": "code",
      "metadata": {
        "id": "5zCUGH6ociYb"
      },
      "source": [
        ""
      ],
      "execution_count": null,
      "outputs": []
    }
  ]
}