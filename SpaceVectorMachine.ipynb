{
  "nbformat": 4,
  "nbformat_minor": 0,
  "metadata": {
    "colab": {
      "name": "SpaceVectorMachine",
      "provenance": [],
      "collapsed_sections": [],
      "authorship_tag": "ABX9TyOs9Ba7W/tzh1w/IA7BGa8u",
      "include_colab_link": true
    },
    "kernelspec": {
      "name": "python3",
      "display_name": "Python 3"
    }
  },
  "cells": [
    {
      "cell_type": "markdown",
      "metadata": {
        "id": "view-in-github",
        "colab_type": "text"
      },
      "source": [
        "<a href=\"https://colab.research.google.com/github/weasel-codes/google-colab/blob/udemy-dl/SpaceVectorMachine.ipynb\" target=\"_parent\"><img src=\"https://colab.research.google.com/assets/colab-badge.svg\" alt=\"Open In Colab\"/></a>"
      ]
    },
    {
      "cell_type": "markdown",
      "metadata": {
        "id": "BMy44yGFaioN"
      },
      "source": [
        "# Support Vector Machine To Predict : Whether customer will buy an SUV or not\n",
        "---"
      ]
    },
    {
      "cell_type": "markdown",
      "metadata": {
        "id": "Q0SdPIFnb-SE"
      },
      "source": [
        "## Libraries Import"
      ]
    },
    {
      "cell_type": "code",
      "metadata": {
        "id": "WtI2H1UCVFHl"
      },
      "source": [
        "import numpy as np\n",
        "import matplotlib.pyplot as plot\n",
        "import pandas as pd"
      ],
      "execution_count": 1,
      "outputs": []
    },
    {
      "cell_type": "markdown",
      "metadata": {
        "id": "mMSIjWn5cTbd"
      },
      "source": [
        "## Dataset Import"
      ]
    },
    {
      "cell_type": "code",
      "metadata": {
        "id": "xCPLAaKYcWLS",
        "outputId": "a1c83342-08a0-41c4-ae36-369026c73910",
        "colab": {
          "base_uri": "https://localhost:8080/"
        }
      },
      "source": [
        "dataset = pd.read_csv('Social_Network_Ads.csv')\n",
        "X = dataset.iloc[:, :-1].values\n",
        "Y = dataset.iloc[:,-1].values\n",
        "print(dataset)"
      ],
      "execution_count": 2,
      "outputs": [
        {
          "output_type": "stream",
          "text": [
            "     Age  EstimatedSalary  Purchased\n",
            "0     19            19000          0\n",
            "1     35            20000          0\n",
            "2     26            43000          0\n",
            "3     27            57000          0\n",
            "4     19            76000          0\n",
            "..   ...              ...        ...\n",
            "395   46            41000          1\n",
            "396   51            23000          1\n",
            "397   50            20000          1\n",
            "398   36            33000          0\n",
            "399   49            36000          1\n",
            "\n",
            "[400 rows x 3 columns]\n"
          ],
          "name": "stdout"
        }
      ]
    },
    {
      "cell_type": "code",
      "metadata": {
        "id": "PyWc2vnbjdr8",
        "outputId": "3c42cfb1-8413-4810-cd3c-535a0b9f4972",
        "colab": {
          "base_uri": "https://localhost:8080/",
          "height": 334
        }
      },
      "source": [
        "# Plotting dependent vs independent variable\n",
        "plot.figure(figsize=(20,5))\n",
        "plot.subplot(121)\n",
        "plot.scatter(X[:,0], Y)\n",
        "plot.xlabel(\"Age\")\n",
        "plot.ylabel(\"Purchased (Yes/No)\")\n",
        "\n",
        "plot.subplot(122)\n",
        "plot.scatter(X[:,1], Y)\n",
        "plot.xlabel(\"Expected Salary\")\n",
        "plot.ylabel(\"Purchased (Yes/No)\")\n",
        "\n",
        "plot.show()\n"
      ],
      "execution_count": 3,
      "outputs": [
        {
          "output_type": "display_data",
          "data": {
            "image/png": "[encoded data removed]",
            "text/plain": [
              "<Figure size 1440x360 with 2 Axes>"
            ]
          },
          "metadata": {
            "tags": [],
            "needs_background": "light"
          }
        }
      ]
    },
    {
      "cell_type": "markdown",
      "metadata": {
        "id": "3DMyrgM9d306"
      },
      "source": [
        "## Split into Training and Testing set"
      ]
    },
    {
      "cell_type": "code",
      "metadata": {
        "id": "6e-LkOSFd817",
        "outputId": "374a621a-3651-4774-c50f-b2d29d3260c8",
        "colab": {
          "base_uri": "https://localhost:8080/"
        }
      },
      "source": [
        "from sklearn.model_selection import train_test_split as split\n",
        "X_train, X_test, Y_train, Y_test = split(X, Y, test_size=0.2, random_state=1) #80:20 :: Train:Test\n",
        "\n",
        "print(\"Train set for X : \", X_train.shape ,\", Sample Data : \\n\",X_train[:10,:])\n",
        "print(\"\\n\\nTrain set for Y : \", Y_train.shape ,\", Sample Data : \\n\", Y_train[:10])\n",
        "print(\"\\n\\nTest set for X : \", X_test.shape ,\", Sample Data : \\n\", X_test[:10,:])\n",
        "print(\"\\n\\nTest set for Y : \", Y_test.shape ,\", Sample Data : \\n\", Y_test[:10])"
      ],
      "execution_count": 4,
      "outputs": [
        {
          "output_type": "stream",
          "text": [
            "Train set for X :  (320, 2) , Sample Data : \n",
            " [[    29  28000]\n",
            " [    45  22000]\n",
            " [    46 117000]\n",
            " [    32  18000]\n",
            " [    22  81000]\n",
            " [    25  87000]\n",
            " [    48  33000]\n",
            " [    35  58000]\n",
            " [    47  23000]\n",
            " [    26  32000]]\n",
            "\n",
            "\n",
            "Train set for Y :  (320,) , Sample Data : \n",
            " [0 1 1 0 0 0 1 0 1 0]\n",
            "\n",
            "\n",
            "Test set for X :  (80, 2) , Sample Data : \n",
            " [[    36  33000]\n",
            " [    39  61000]\n",
            " [    36 118000]\n",
            " [    39 122000]\n",
            " [    26 118000]\n",
            " [    38  65000]\n",
            " [    20  36000]\n",
            " [    49  89000]\n",
            " [    31  18000]\n",
            " [    48 141000]]\n",
            "\n",
            "\n",
            "Test set for Y :  (80,) , Sample Data : \n",
            " [0 0 1 1 0 0 0 1 0 0]\n"
          ],
          "name": "stdout"
        }
      ]
    },
    {
      "cell_type": "markdown",
      "metadata": {
        "id": "UHpvv2LBgn9f"
      },
      "source": [
        "## Feature Scaling"
      ]
    },
    {
      "cell_type": "code",
      "metadata": {
        "id": "g7qRCQdugxxT",
        "outputId": "9e748820-0539-4e6f-d0b2-44eb69697bd4",
        "colab": {
          "base_uri": "https://localhost:8080/"
        }
      },
      "source": [
        "from sklearn.preprocessing import StandardScaler\n",
        "sc = StandardScaler()\n",
        "X_train = sc.fit_transform(X_train)\n",
        "X_test = sc.transform(X_test)\n",
        "\n",
        "print(\"Train set for X : \", X_train.shape ,\", Sample Data : \\n\",X_train[:10,:])\n",
        "print(\"\\n\\nTest set for X : \", X_test.shape ,\", Sample Data : \\n \", X_test[:10,:])"
      ],
      "execution_count": 5,
      "outputs": [
        {
          "output_type": "stream",
          "text": [
            "Train set for X :  (320, 2) , Sample Data : \n",
            " [[-0.80330081 -1.19121795]\n",
            " [ 0.75697997 -1.36859801]\n",
            " [ 0.85449752  1.43991958]\n",
            " [-0.51074816 -1.48685138]\n",
            " [-1.48592365  0.37563923]\n",
            " [-1.19337101  0.55301929]\n",
            " [ 1.04953262 -1.04340124]\n",
            " [-0.21819552 -0.30431766]\n",
            " [ 0.95201507 -1.33903467]\n",
            " [-1.09585346 -1.07296458]]\n",
            "\n",
            "\n",
            "Test set for X :  (80, 2) , Sample Data : \n",
            "  [[-0.12067797 -1.04340124]\n",
            " [ 0.17187468 -0.21562763]\n",
            " [-0.12067797  1.46948292]\n",
            " [ 0.17187468  1.58773629]\n",
            " [-1.09585346  1.46948292]\n",
            " [ 0.07435713 -0.09737426]\n",
            " [-1.68095875 -0.95471121]\n",
            " [ 1.14705017  0.61214597]\n",
            " [-0.60826571 -1.48685138]\n",
            " [ 1.04953262  2.14943981]]\n"
          ],
          "name": "stdout"
        }
      ]
    },
    {
      "cell_type": "markdown",
      "metadata": {
        "id": "5YVYlIDOjbu8"
      },
      "source": [
        "## Training SVM Model"
      ]
    },
    {
      "cell_type": "code",
      "metadata": {
        "id": "5R_wq2uOjeCX",
        "outputId": "b76e5ba2-c5e6-4fbd-a5e0-80378d5d15fa",
        "colab": {
          "base_uri": "https://localhost:8080/"
        }
      },
      "source": [
        "from sklearn.svm import SVC\n",
        "classifier = SVC(kernel = 'linear', random_state=0) # We need to mention Kernel here : Linear(Classic SVM) or Non Linear\n",
        "classifier.fit(X_train, Y_train)"
      ],
      "execution_count": 6,
      "outputs": [
        {
          "output_type": "execute_result",
          "data": {
            "text/plain": [
              "SVC(C=1.0, break_ties=False, cache_size=200, class_weight=None, coef0=0.0,\n",
              "    decision_function_shape='ovr', degree=3, gamma='scale', kernel='linear',\n",
              "    max_iter=-1, probability=False, random_state=0, shrinking=True, tol=0.001,\n",
              "    verbose=False)"
            ]
          },
          "metadata": {
            "tags": []
          },
          "execution_count": 6
        }
      ]
    },
    {
      "cell_type": "markdown",
      "metadata": {
        "id": "hZQx-Lopoh7E"
      },
      "source": [
        "## Predicting a new result"
      ]
    },
    {
      "cell_type": "code",
      "metadata": {
        "id": "aC9e90Ygok6x",
        "outputId": "8c5a921e-ad14-41e9-f057-9ab4addda169",
        "colab": {
          "base_uri": "https://localhost:8080/"
        }
      },
      "source": [
        "print(classifier.predict(sc.transform([[30,87000]])))"
      ],
      "execution_count": 7,
      "outputs": [
        {
          "output_type": "stream",
          "text": [
            "[0]\n"
          ],
          "name": "stdout"
        }
      ]
    },
    {
      "cell_type": "markdown",
      "metadata": {
        "id": "fLD_hwK_olQ1"
      },
      "source": [
        "## Predicting on test set"
      ]
    },
    {
      "cell_type": "code",
      "metadata": {
        "id": "_J89wEzHoolY"
      },
      "source": [
        "Y_pred = classifier.predict(X_test)"
      ],
      "execution_count": 9,
      "outputs": []
    },
    {
      "cell_type": "markdown",
      "metadata": {
        "id": "c4DRsVdptxYs"
      },
      "source": [
        "# Generate Confusion Matrix"
      ]
    },
    {
      "cell_type": "code",
      "metadata": {
        "id": "7dZbSKQZt5JQ",
        "outputId": "bf45fd84-48b9-49dd-f0a7-bf26990d0c8d",
        "colab": {
          "base_uri": "https://localhost:8080/"
        }
      },
      "source": [
        "from sklearn.metrics import confusion_matrix, accuracy_score\n",
        "print(\"Accuracy of model : \", accuracy_score(Y_test, Y_pred))\n",
        "cm = confusion_matrix(Y_test, Y_pred)\n",
        "print(\"Confusion Matrix : \\n\", cm)"
      ],
      "execution_count": 10,
      "outputs": [
        {
          "output_type": "stream",
          "text": [
            "Accuracy of model :  0.8375\n",
            "Confusion Matrix : \n",
            " [[42  6]\n",
            " [ 7 25]]\n"
          ],
          "name": "stdout"
        }
      ]
    },
    {
      "cell_type": "markdown",
      "metadata": {
        "id": "tDAIgr8U0QT-"
      },
      "source": [
        "## Visualizing Outcome for Training Set"
      ]
    },
    {
      "cell_type": "code",
      "metadata": {
        "id": "bEEX-xnR0U41",
        "outputId": "20224c8a-56f2-4225-95cf-354ab15649d3",
        "colab": {
          "base_uri": "https://localhost:8080/",
          "height": 350
        }
      },
      "source": [
        "import matplotlib.pyplot as plt\n",
        "from matplotlib.colors import ListedColormap\n",
        "X_set, Y_set = sc.inverse_transform(X_train), Y_train\n",
        "X1, X2 = np.meshgrid(np.arange(start = X_set[:, 0].min() - 10, stop = X_set[:, 0].max() + 10, step = 0.25),\n",
        "                     np.arange(start = X_set[:, 1].min() - 1000, stop = X_set[:, 1].max() + 1000, step = 0.25))\n",
        "plt.contourf(X1, X2, classifier.predict(sc.transform(np.array([X1.ravel(), X2.ravel()]).T)).reshape(X1.shape),\n",
        "             alpha = 0.75, cmap = ListedColormap(('red', 'green')))\n",
        "plt.xlim(X1.min(), X1.max())\n",
        "plt.ylim(X2.min(), X2.max())\n",
        "for i, j in enumerate(np.unique(Y_set)):\n",
        "    plt.scatter(X_set[Y_set == j, 0], X_set[Y_set == j, 1], c = ListedColormap(('red', 'green'))(i), label = j)\n",
        "plt.title('SVM Training Set')\n",
        "plt.xlabel('Age')\n",
        "plt.ylabel('Estimated Salary')\n",
        "plt.legend()\n",
        "plt.show()"
      ],
      "execution_count": null,
      "outputs": [
        {
          "output_type": "stream",
          "text": [
            "*c* argument looks like a single numeric RGB or RGBA sequence, which should be avoided as value-mapping will have precedence in case its length matches with *x* & *y*.  Please use the *color* keyword-argument or provide a 2-D array with a single row if you intend to specify the same RGB or RGBA value for all points.\n",
            "*c* argument looks like a single numeric RGB or RGBA sequence, which should be avoided as value-mapping will have precedence in case its length matches with *x* & *y*.  Please use the *color* keyword-argument or provide a 2-D array with a single row if you intend to specify the same RGB or RGBA value for all points.\n"
          ],
          "name": "stderr"
        },
        {
          "output_type": "display_data",
          "data": {
            "image/png": "[encoded data removed]",
            "text/plain": [
              "<Figure size 432x288 with 1 Axes>"
            ]
          },
          "metadata": {
            "tags": [],
            "needs_background": "light"
          }
        }
      ]
    },
    {
      "cell_type": "markdown",
      "metadata": {
        "id": "Im2W5QfR7U9X"
      },
      "source": [
        "## Visualizing Outcome for Test Dataset"
      ]
    },
    {
      "cell_type": "code",
      "metadata": {
        "id": "pRAFUBZw7blM",
        "outputId": "a7476331-d448-45ff-f57c-8c2d624f89d9",
        "colab": {
          "base_uri": "https://localhost:8080/",
          "height": 350
        }
      },
      "source": [
        "from matplotlib.colors import ListedColormap\n",
        "X_set, y_set = sc.inverse_transform(X_test), Y_test\n",
        "X1, X2 = np.meshgrid(np.arange(start = X_set[:, 0].min() - 10, stop = X_set[:, 0].max() + 10, step = 0.25),\n",
        "                     np.arange(start = X_set[:, 1].min() - 1000, stop = X_set[:, 1].max() + 1000, step = 0.25))\n",
        "plt.contourf(X1, X2, classifier.predict(sc.transform(np.array([X1.ravel(), X2.ravel()]).T)).reshape(X1.shape),\n",
        "             alpha = 0.75, cmap = ListedColormap(('red', 'green')))\n",
        "plt.xlim(X1.min(), X1.max())\n",
        "plt.ylim(X2.min(), X2.max())\n",
        "for i, j in enumerate(np.unique(y_set)):\n",
        "    plt.scatter(X_set[y_set == j, 0], X_set[y_set == j, 1], c = ListedColormap(('red', 'green'))(i), label = j)\n",
        "plt.title('SVM Testing Set')\n",
        "plt.xlabel('Age')\n",
        "plt.ylabel('Estimated Salary')\n",
        "plt.legend()\n",
        "plt.show()"
      ],
      "execution_count": null,
      "outputs": [
        {
          "output_type": "stream",
          "text": [
            "*c* argument looks like a single numeric RGB or RGBA sequence, which should be avoided as value-mapping will have precedence in case its length matches with *x* & *y*.  Please use the *color* keyword-argument or provide a 2-D array with a single row if you intend to specify the same RGB or RGBA value for all points.\n",
            "*c* argument looks like a single numeric RGB or RGBA sequence, which should be avoided as value-mapping will have precedence in case its length matches with *x* & *y*.  Please use the *color* keyword-argument or provide a 2-D array with a single row if you intend to specify the same RGB or RGBA value for all points.\n"
          ],
          "name": "stderr"
        },
        {
          "output_type": "display_data",
          "data": {
            "image/png": "[encoded data removed]",
            "text/plain": [
              "<Figure size 432x288 with 1 Axes>"
            ]
          },
          "metadata": {
            "tags": [],
            "needs_background": "light"
          }
        }
      ]
    },
    {
      "cell_type": "markdown",
      "metadata": {
        "id": "CfE3pLLcM9V2"
      },
      "source": [
        "# K-Fold Cross validation\n"
      ]
    },
    {
      "cell_type": "code",
      "metadata": {
        "id": "2fdmnTZmNFm5",
        "outputId": "754daa9b-759d-43b4-87cc-b26f18d02375",
        "colab": {
          "base_uri": "https://localhost:8080/",
          "height": 418
        }
      },
      "source": [
        "# For SVM\n",
        "from sklearn.model_selection import cross_val_score\n",
        "accuracies = cross_val_score(estimator = classifier, X = X_train, y = Y_train, cv = 10)\n",
        "print(\"Distinct accuracies for SVM : \", accuracies*100)\n",
        "print(\"Average Accuracy SVM : {:.2f} %\".format(accuracies.mean()*100))\n",
        "print(\"Standard Deviation in SVM accuracies : {:.2f} %\".format(accuracies.std()*100))\n",
        "\n",
        "fig = plot.figure()\n",
        "ax = fig.add_axes([0,0,1,1])\n",
        "ax.bar(np.arange(1,len(accuracies)+1), accuracies*100)\n",
        "plot.xlabel(\"Fold #\")\n",
        "plot.ylabel(\"Accuracy\")\n",
        "plot.title(\"Accuracy vs folds\")\n",
        "plot.show()"
      ],
      "execution_count": 11,
      "outputs": [
        {
          "output_type": "stream",
          "text": [
            "Distinct accuracies for SVM :  [81.25  75.    87.5   87.5   81.25  78.125 84.375 96.875 81.25  87.5  ]\n",
            "Average Accuracy SVM : 84.06 %\n",
            "Standard Deviation in SVM accuracies : 5.84 %\n"
          ],
          "name": "stdout"
        },
        {
          "output_type": "display_data",
          "data": {
            "image/png": "[encoded data removed]",
            "text/plain": [
              "<Figure size 432x288 with 1 Axes>"
            ]
          },
          "metadata": {
            "tags": [],
            "needs_background": "light"
          }
        }
      ]
    },
    {
      "cell_type": "markdown",
      "metadata": {
        "id": "_hKWWWoRQtNS"
      },
      "source": [
        "# Grid Search Implementation\n",
        "* Gamma can only be used with rbf kernel"
      ]
    },
    {
      "cell_type": "code",
      "metadata": {
        "id": "iOCTftEYQ1U2",
        "outputId": "f6961e5a-54dc-4a3f-983c-e16396b985cf",
        "colab": {
          "base_uri": "https://localhost:8080/"
        }
      },
      "source": [
        "from sklearn.model_selection import GridSearchCV\n",
        "parameters = [{'C' : [0.25, 0.5, 0.75, 1], 'kernel' : ['linear']},\n",
        "              {'C' : [0.25, 0.5, 0.75, 1], 'kernel' : ['rbf'], 'gamma' : [0.1, 0.2, 0.3, 0.4, 0.5, 0.6, 0.7, 0.8, 0.9]}]\n",
        "\n",
        "grid_search = GridSearchCV(estimator = classifier, param_grid = parameters, scoring = 'accuracy', cv = 10, n_jobs = -1) # n_jobs : use all processors\n",
        "grid_search.fit(X_train, Y_train)\n",
        "best_accuracy = grid_search.best_score_\n",
        "best_params = grid_search.best_params_\n",
        "\n",
        "print(\"BEST Accuracy SVM : {:.2f} %\".format(best_accuracy*100))\n",
        "print(\"BEST params for SVM : \", best_params)\n"
      ],
      "execution_count": 12,
      "outputs": [
        {
          "output_type": "stream",
          "text": [
            "BEST Accuracy SVM : 93.12 %\n",
            "BEST params for SVM :  {'C': 0.5, 'gamma': 0.7, 'kernel': 'rbf'}\n"
          ],
          "name": "stdout"
        }
      ]
    }
  ]
}