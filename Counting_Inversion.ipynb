{
  "nbformat": 4,
  "nbformat_minor": 0,
  "metadata": {
    "colab": {
      "name": "Counting_Inversion.ipynb",
      "provenance": [],
      "authorship_tag": "ABX9TyN/DwWozkHRWUTwDzlTC3yC",
      "include_colab_link": true
    },
    "kernelspec": {
      "name": "python3",
      "display_name": "Python 3"
    }
  },
  "cells": [
    {
      "cell_type": "markdown",
      "metadata": {
        "id": "view-in-github",
        "colab_type": "text"
      },
      "source": [
        "<a href=\"https://colab.research.google.com/github/weasel-codes/google-colab/blob/coding/Counting_Inversion.ipynb\" target=\"_parent\"><img src=\"https://colab.research.google.com/assets/colab-badge.svg\" alt=\"Open In Colab\"/></a>"
      ]
    },
    {
      "cell_type": "markdown",
      "metadata": {
        "id": "8QQHfEubNsTQ"
      },
      "source": [
        "# Number of inversion in a list of integers\n",
        "\n",
        "## Iterative Approach"
      ]
    },
    {
      "cell_type": "code",
      "metadata": {
        "id": "c4UdCLOZNoqR",
        "outputId": "fe038b2b-e4a6-4d84-c4b2-fc5e6c186247",
        "colab": {
          "base_uri": "https://localhost:8080/"
        }
      },
      "source": [
        "def iterativeInversion(arr) :\n",
        "  count = 0\n",
        "  if(len(arr) in [0,1]) :\n",
        "     return 0\n",
        "     \n",
        "  for i in range(len(arr)) :\n",
        "    j=i+1\n",
        "    while j<len(arr) :\n",
        "      if j>i and arr[i]>arr[j] :\n",
        "        count+=1  \n",
        "      j+=1\n",
        "  return count\n",
        "\n",
        "print(\"Total Inversion : \" , iterativeInversion([4,2,6,1,7]))\n",
        "print(\"Total Inversion : \" , iterativeInversion([4]))"
      ],
      "execution_count": 9,
      "outputs": [
        {
          "output_type": "stream",
          "text": [
            "Total Inversion :  4\n",
            "Total Inversion :  0\n"
          ],
          "name": "stdout"
        }
      ]
    },
    {
      "cell_type": "markdown",
      "metadata": {
        "id": "U3UKdsPjTO3I"
      },
      "source": [
        "## Recursive approach using merge sort concept"
      ]
    },
    {
      "cell_type": "code",
      "metadata": {
        "id": "nAQwAhrXTTTg",
        "outputId": "67a69d73-537f-4dee-9a01-3183a6a89a62",
        "colab": {
          "base_uri": "https://localhost:8080/"
        }
      },
      "source": [
        "#MergeSort\n",
        "\n",
        "def count(arr, L, R) :\n",
        "  i = j = k = countRec = 0\n",
        "\n",
        "  while i<len(L) and j<len(R) :\n",
        "    if L[i] < R[j] :\n",
        "      arr[k] = L[i]\n",
        "      i+=1\n",
        "    else :\n",
        "      countRec+=len(R)-j-1\n",
        "      print(\"L:\",L[i],\"R:\",R[j])\n",
        "      arr[k] = R[j]\n",
        "      j=j+1\n",
        "    k+=1\n",
        "\n",
        "  if i == len(L) :\n",
        "    while j!=len(R) :\n",
        "      arr[k] = R[j]\n",
        "      j+=1\n",
        "      k+=1\n",
        "  \n",
        "  if j == len(R) :\n",
        "    while i!=len(L) :\n",
        "      print(\"Remaining L:\",L[i])\n",
        "      countRec+=1\n",
        "      arr[k] = L[i]\n",
        "      i+=1\n",
        "      k+=1\n",
        "\n",
        "  return countRec\n",
        "\n",
        "def countInversion(arr) :\n",
        "  x=y=z=0\n",
        "  if len(arr)<2 :\n",
        "    return 0\n",
        "  else :\n",
        "    mid = int(len(arr)/2)\n",
        "    L=arr[:mid]\n",
        "    R=arr[mid:]\n",
        "    x = countInversion(L)\n",
        "    y = countInversion(R)\n",
        "    z = inversion(arr, L, R)\n",
        "  return z + x + y\n",
        "\n",
        "  \n",
        "print(\"Total Inversion : \", mergeSort([4,2,6,1,7]))"
      ],
      "execution_count": 25,
      "outputs": [
        {
          "output_type": "stream",
          "text": [
            "L: 4 R: 2\n",
            "Remaining L: 4\n",
            "L: 6 R: 1\n",
            "L: 2 R: 1\n",
            "Total Inversion :  4\n"
          ],
          "name": "stdout"
        }
      ]
    },
    {
      "cell_type": "markdown",
      "metadata": {
        "id": "Yri9qGA620ql"
      },
      "source": [
        ""
      ]
    },
    {
      "cell_type": "code",
      "metadata": {
        "id": "4FAxZ4Mm242B"
      },
      "source": [
        ""
      ],
      "execution_count": null,
      "outputs": []
    }
  ]
}