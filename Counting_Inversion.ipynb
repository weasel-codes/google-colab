{
  "nbformat": 4,
  "nbformat_minor": 0,
  "metadata": {
    "colab": {
      "name": "Counting_Inversion.ipynb",
      "provenance": [],
      "authorship_tag": "ABX9TyPsVuJqsIGcK+wQhtmOKC8q",
      "include_colab_link": true
    },
    "kernelspec": {
      "name": "python3",
      "display_name": "Python 3"
    }
  },
  "cells": [
    {
      "cell_type": "markdown",
      "metadata": {
        "id": "view-in-github",
        "colab_type": "text"
      },
      "source": [
        "<a href=\"https://colab.research.google.com/github/weasel-codes/google-colab/blob/coding/Counting_Inversion.ipynb\" target=\"_parent\"><img src=\"https://colab.research.google.com/assets/colab-badge.svg\" alt=\"Open In Colab\"/></a>"
      ]
    },
    {
      "cell_type": "markdown",
      "metadata": {
        "id": "8QQHfEubNsTQ"
      },
      "source": [
        "# Number of inversion in a list of integers\n",
        "## Iterative Approach"
      ]
    },
    {
      "cell_type": "code",
      "metadata": {
        "id": "c4UdCLOZNoqR",
        "outputId": "c5a607f6-99f6-4eca-9850-b6952f1eac16",
        "colab": {
          "base_uri": "https://localhost:8080/"
        }
      },
      "source": [
        "def iterativeInversion(arr) :\n",
        "  count = 0\n",
        "  if(len(arr) in [0,1]) :\n",
        "     return 0\n",
        "     \n",
        "  for i in range(len(arr)) :\n",
        "    j=i+1\n",
        "    while j<len(arr) :\n",
        "      if j>i and arr[i]>arr[j] :\n",
        "        count+=1  \n",
        "      j+=1\n",
        "  return count\n",
        "\n",
        "print(\"Total Inversion : \" , iterativeInversion([4,2,6,1,7]))\n",
        "print(\"Total Inversion : \" , iterativeInversion([4]))"
      ],
      "execution_count": 68,
      "outputs": [
        {
          "output_type": "stream",
          "text": [
            "Total Inversion :  4\n",
            "Total Inversion :  0\n"
          ],
          "name": "stdout"
        }
      ]
    },
    {
      "cell_type": "markdown",
      "metadata": {
        "id": "U3UKdsPjTO3I"
      },
      "source": [
        "## Recursive Approach Using MergeSort"
      ]
    },
    {
      "cell_type": "code",
      "metadata": {
        "id": "nAQwAhrXTTTg",
        "outputId": "b8525c67-d006-403e-be27-246afdbad71d",
        "colab": {
          "base_uri": "https://localhost:8080/"
        }
      },
      "source": [
        "#MergeSort\n",
        "def merge(arr, L, R) :\n",
        "  i = j = k = 0\n",
        "\n",
        "  while i<len(L) and j<len(R) :\n",
        "    if L[i] < R[j] :\n",
        "      arr[k] = L[i]\n",
        "      i+=1\n",
        "    else :\n",
        "      arr[k] = R[j]\n",
        "      j=j+1\n",
        "    k+=1\n",
        "\n",
        "  if i == len(L) :\n",
        "    while j!=len(R) :\n",
        "      arr[k] = R[j]\n",
        "      j+=1\n",
        "      k+=1\n",
        "  \n",
        "  if j == len(R) :\n",
        "    while i!=len(L) :\n",
        "      arr[k] = L[i]\n",
        "      i+=1\n",
        "      k+=1\n",
        "\n",
        "  return arr\n",
        "\n",
        "def mergeSort(arr) :\n",
        "  print(\"Array : \" , arr)\n",
        "  if len(arr)<2 :\n",
        "    return arr\n",
        "  else :\n",
        "    mid = int(len(arr)/2)\n",
        "    L=arr[:mid]\n",
        "    R=arr[mid:]\n",
        "    mergeSort(L)\n",
        "    mergeSort(R)\n",
        "    arr = merge(arr, L, R)\n",
        "    \n",
        "  return arr\n",
        "\n",
        "  \n",
        "print(mergeSort([5,2,1,3,5,6,2,3]))"
      ],
      "execution_count": 69,
      "outputs": [
        {
          "output_type": "stream",
          "text": [
            "Array :  [5, 2, 1, 3, 5, 6, 2, 3]\n",
            "Array :  [5, 2, 1, 3]\n",
            "Array :  [5, 2]\n",
            "Array :  [5]\n",
            "Array :  [2]\n",
            "Array :  [1, 3]\n",
            "Array :  [1]\n",
            "Array :  [3]\n",
            "Array :  [5, 6, 2, 3]\n",
            "Array :  [5, 6]\n",
            "Array :  [5]\n",
            "Array :  [6]\n",
            "Array :  [2, 3]\n",
            "Array :  [2]\n",
            "Array :  [3]\n",
            "[1, 2, 2, 3, 3, 5, 5, 6]\n"
          ],
          "name": "stdout"
        }
      ]
    }
  ]
}