{
  "nbformat": 4,
  "nbformat_minor": 0,
  "metadata": {
    "colab": {
      "name": "QuickSort.ipynb",
      "provenance": [],
      "authorship_tag": "ABX9TyNIkpXQp2RjXWMjrjaUodKu",
      "include_colab_link": true
    },
    "kernelspec": {
      "name": "python3",
      "display_name": "Python 3"
    }
  },
  "cells": [
    {
      "cell_type": "markdown",
      "metadata": {
        "id": "view-in-github",
        "colab_type": "text"
      },
      "source": [
        "<a href=\"https://colab.research.google.com/github/weasel-codes/google-colab/blob/coding/QuickSort.ipynb\" target=\"_parent\"><img src=\"https://colab.research.google.com/assets/colab-badge.svg\" alt=\"Open In Colab\"/></a>"
      ]
    },
    {
      "cell_type": "markdown",
      "metadata": {
        "id": "tgMD0tkE0_Yd"
      },
      "source": [
        "# QuickSort"
      ]
    },
    {
      "cell_type": "code",
      "metadata": {
        "id": "ZpYCgQwx04GG"
      },
      "source": [
        "def Quicksort(A) :\n",
        "  print(\"trying quicksort on : \", A)\n",
        "  \n"
      ],
      "execution_count": null,
      "outputs": []
    }
  ]
}