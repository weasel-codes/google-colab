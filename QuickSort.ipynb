{
  "nbformat": 4,
  "nbformat_minor": 0,
  "metadata": {
    "colab": {
      "name": "QuickSort.ipynb",
      "provenance": [],
      "authorship_tag": "ABX9TyPMOBcYIH7iExskIEiQATw9",
      "include_colab_link": true
    },
    "kernelspec": {
      "name": "python3",
      "display_name": "Python 3"
    }
  },
  "cells": [
    {
      "cell_type": "markdown",
      "metadata": {
        "id": "view-in-github",
        "colab_type": "text"
      },
      "source": [
        "<a href=\"https://colab.research.google.com/github/weasel-codes/google-colab/blob/coding/QuickSort.ipynb\" target=\"_parent\"><img src=\"https://colab.research.google.com/assets/colab-badge.svg\" alt=\"Open In Colab\"/></a>"
      ]
    },
    {
      "cell_type": "markdown",
      "metadata": {
        "id": "tgMD0tkE0_Yd"
      },
      "source": [
        "# QuickSort"
      ]
    },
    {
      "cell_type": "code",
      "metadata": {
        "id": "ZpYCgQwx04GG",
        "outputId": "89b8e863-5988-41db-a39e-71fa15faf31a",
        "colab": {
          "base_uri": "https://localhost:8080/"
        }
      },
      "source": [
        "def partition(A, low, high):\n",
        "  pivot = A[high]\n",
        "  i = low-1 #Used to finalise pivots position\n",
        "\n",
        "  for j in range(low, high):\n",
        "    if A[j] < pivot :\n",
        "      i=i+1 #Means that one more ele needs to be adjusted before pivot\n",
        "      A[i], A[j] = A[j], A[i]\n",
        "      print(\" I : \", i,\", J : \", j)\n",
        "      print(\"In B/W? : \", A)\n",
        "\n",
        "  A[i+1], A[high] = A[high], A[i+1] # Bring pivot to make the location it belongs in sorted Array\n",
        "  return (i+1)\n",
        "\n",
        "def Quicksort(A, low, high) :\n",
        "  if(len(A)<2):\n",
        "    return A\n",
        "  \n",
        "  if low < high:\n",
        "    print(\"How does it look before? : \", A)\n",
        "    pivot = partition(A, low, high)\n",
        "    print(\"How does it look after? : \", A, \"\\n\")\n",
        "    Quicksort(A, low, pivot-1)\n",
        "    Quicksort(A, pivot+1, high)\n",
        "  return A\n",
        "\n",
        "A = [2,5,74,62,6,7,56,76,71,65]\n",
        "print(\"SORTED : \" , Quicksort(A,0,len(A)-1))"
      ],
      "execution_count": 26,
      "outputs": [
        {
          "output_type": "stream",
          "text": [
            "How does it look before? :  [2, 5, 74, 62, 6, 7, 56, 76, 71, 65]\n",
            " I :  0 , J :  0\n",
            "In B/W? :  [2, 5, 74, 62, 6, 7, 56, 76, 71, 65]\n",
            " I :  1 , J :  1\n",
            "In B/W? :  [2, 5, 74, 62, 6, 7, 56, 76, 71, 65]\n",
            " I :  2 , J :  3\n",
            "In B/W? :  [2, 5, 62, 74, 6, 7, 56, 76, 71, 65]\n",
            " I :  3 , J :  4\n",
            "In B/W? :  [2, 5, 62, 6, 74, 7, 56, 76, 71, 65]\n",
            " I :  4 , J :  5\n",
            "In B/W? :  [2, 5, 62, 6, 7, 74, 56, 76, 71, 65]\n",
            " I :  5 , J :  6\n",
            "In B/W? :  [2, 5, 62, 6, 7, 56, 74, 76, 71, 65]\n",
            "How does it look after? :  [2, 5, 62, 6, 7, 56, 65, 76, 71, 74] \n",
            "\n",
            "How does it look before? :  [2, 5, 62, 6, 7, 56, 65, 76, 71, 74]\n",
            " I :  0 , J :  0\n",
            "In B/W? :  [2, 5, 62, 6, 7, 56, 65, 76, 71, 74]\n",
            " I :  1 , J :  1\n",
            "In B/W? :  [2, 5, 62, 6, 7, 56, 65, 76, 71, 74]\n",
            " I :  2 , J :  3\n",
            "In B/W? :  [2, 5, 6, 62, 7, 56, 65, 76, 71, 74]\n",
            " I :  3 , J :  4\n",
            "In B/W? :  [2, 5, 6, 7, 62, 56, 65, 76, 71, 74]\n",
            "How does it look after? :  [2, 5, 6, 7, 56, 62, 65, 76, 71, 74] \n",
            "\n",
            "How does it look before? :  [2, 5, 6, 7, 56, 62, 65, 76, 71, 74]\n",
            " I :  0 , J :  0\n",
            "In B/W? :  [2, 5, 6, 7, 56, 62, 65, 76, 71, 74]\n",
            " I :  1 , J :  1\n",
            "In B/W? :  [2, 5, 6, 7, 56, 62, 65, 76, 71, 74]\n",
            " I :  2 , J :  2\n",
            "In B/W? :  [2, 5, 6, 7, 56, 62, 65, 76, 71, 74]\n",
            "How does it look after? :  [2, 5, 6, 7, 56, 62, 65, 76, 71, 74] \n",
            "\n",
            "How does it look before? :  [2, 5, 6, 7, 56, 62, 65, 76, 71, 74]\n",
            " I :  0 , J :  0\n",
            "In B/W? :  [2, 5, 6, 7, 56, 62, 65, 76, 71, 74]\n",
            " I :  1 , J :  1\n",
            "In B/W? :  [2, 5, 6, 7, 56, 62, 65, 76, 71, 74]\n",
            "How does it look after? :  [2, 5, 6, 7, 56, 62, 65, 76, 71, 74] \n",
            "\n",
            "How does it look before? :  [2, 5, 6, 7, 56, 62, 65, 76, 71, 74]\n",
            " I :  0 , J :  0\n",
            "In B/W? :  [2, 5, 6, 7, 56, 62, 65, 76, 71, 74]\n",
            "How does it look after? :  [2, 5, 6, 7, 56, 62, 65, 76, 71, 74] \n",
            "\n",
            "How does it look before? :  [2, 5, 6, 7, 56, 62, 65, 76, 71, 74]\n",
            " I :  7 , J :  8\n",
            "In B/W? :  [2, 5, 6, 7, 56, 62, 65, 71, 76, 74]\n",
            "How does it look after? :  [2, 5, 6, 7, 56, 62, 65, 71, 74, 76] \n",
            "\n",
            "SORTED :  [2, 5, 6, 7, 56, 62, 65, 71, 74, 76]\n"
          ],
          "name": "stdout"
        }
      ]
    }
  ]
}